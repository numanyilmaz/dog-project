{
 "cells": [
  {
   "cell_type": "markdown",
   "metadata": {},
   "source": [
    "# Artificial Intelligence Nanodegree\n",
    "\n",
    "## Convolutional Neural Networks\n",
    "\n",
    "## Project: Write an Algorithm for a Dog Identification App \n",
    "\n",
    "---\n",
    "\n",
    "In this notebook, some template code has already been provided for you, and you will need to implement additional functionality to successfully complete this project. You will not need to modify the included code beyond what is requested. Sections that begin with **'(IMPLEMENTATION)'** in the header indicate that the following block of code will require additional functionality which you must provide. Instructions will be provided for each section, and the specifics of the implementation are marked in the code block with a 'TODO' statement. Please be sure to read the instructions carefully! \n",
    "\n",
    "> **Note**: Once you have completed all of the code implementations, you need to finalize your work by exporting the iPython Notebook as an HTML document. Before exporting the notebook to html, all of the code cells need to have been run so that reviewers can see the final implementation and output. You can then export the notebook by using the menu above and navigating to  \\n\",\n",
    "    \"**File -> Download as -> HTML (.html)**. Include the finished document along with this notebook as your submission.\n",
    "\n",
    "In addition to implementing code, there will be questions that you must answer which relate to the project and your implementation. Each section where you will answer a question is preceded by a **'Question X'** header. Carefully read each question and provide thorough answers in the following text boxes that begin with **'Answer:'**. Your project submission will be evaluated based on your answers to each of the questions and the implementation you provide.\n",
    "\n",
    ">**Note:** Code and Markdown cells can be executed using the **Shift + Enter** keyboard shortcut.  Markdown cells can be edited by double-clicking the cell to enter edit mode.\n",
    "\n",
    "The rubric contains _optional_ \"Stand Out Suggestions\" for enhancing the project beyond the minimum requirements. If you decide to pursue the \"Stand Out Suggestions\", you should include the code in this IPython notebook.\n",
    "\n",
    "\n",
    "\n",
    "---\n",
    "### Why We're Here \n",
    "\n",
    "In this notebook, you will make the first steps towards developing an algorithm that could be used as part of a mobile or web app.  At the end of this project, your code will accept any user-supplied image as input.  If a dog is detected in the image, it will provide an estimate of the dog's breed.  If a human is detected, it will provide an estimate of the dog breed that is most resembling.  The image below displays potential sample output of your finished project (... but we expect that each student's algorithm will behave differently!). \n",
    "\n",
    "![Sample Dog Output](images/sample_dog_output.png)\n",
    "\n",
    "In this real-world setting, you will need to piece together a series of models to perform different tasks; for instance, the algorithm that detects humans in an image will be different from the CNN that infers dog breed.  There are many points of possible failure, and no perfect algorithm exists.  Your imperfect solution will nonetheless create a fun user experience!\n",
    "\n",
    "### The Road Ahead\n",
    "\n",
    "We break the notebook into separate steps.  Feel free to use the links below to navigate the notebook.\n",
    "\n",
    "* [Step 0](#step0): Import Datasets\n",
    "* [Step 1](#step1): Detect Humans\n",
    "* [Step 2](#step2): Detect Dogs\n",
    "* [Step 3](#step3): Create a CNN to Classify Dog Breeds (from Scratch)\n",
    "* [Step 4](#step4): Use a CNN to Classify Dog Breeds (using Transfer Learning)\n",
    "* [Step 5](#step5): Create a CNN to Classify Dog Breeds (using Transfer Learning)\n",
    "* [Step 6](#step6): Write your Algorithm\n",
    "* [Step 7](#step7): Test Your Algorithm\n",
    "\n",
    "---\n",
    "<a id='step0'></a>\n",
    "## Step 0: Import Datasets\n",
    "\n",
    "### Import Dog Dataset\n",
    "\n",
    "In the code cell below, we import a dataset of dog images.  We populate a few variables through the use of the `load_files` function from the scikit-learn library:\n",
    "- `train_files`, `valid_files`, `test_files` - numpy arrays containing file paths to images\n",
    "- `train_targets`, `valid_targets`, `test_targets` - numpy arrays containing onehot-encoded classification labels \n",
    "- `dog_names` - list of string-valued dog breed names for translating labels"
   ]
  },
  {
   "cell_type": "code",
   "execution_count": 1,
   "metadata": {},
   "outputs": [
    {
     "name": "stderr",
     "output_type": "stream",
     "text": [
      "Using TensorFlow backend.\n"
     ]
    },
    {
     "name": "stdout",
     "output_type": "stream",
     "text": [
      "There are 133 total dog categories.\n",
      "There are 8351 total dog images.\n",
      "\n",
      "There are 6680 training dog images.\n",
      "There are 835 validation dog images.\n",
      "There are 836 test dog images.\n"
     ]
    }
   ],
   "source": [
    "from sklearn.datasets import load_files       \n",
    "from keras.utils import np_utils\n",
    "import numpy as np\n",
    "from glob import glob\n",
    "\n",
    "# define function to load train, test, and validation datasets\n",
    "def load_dataset(path):\n",
    "    data = load_files(path)\n",
    "    dog_files = np.array(data['filenames'])\n",
    "    dog_targets = np_utils.to_categorical(np.array(data['target']), 133)\n",
    "    return dog_files, dog_targets\n",
    "\n",
    "# load train, test, and validation datasets\n",
    "train_files, train_targets = load_dataset('dogImages/train')\n",
    "valid_files, valid_targets = load_dataset('dogImages/valid')\n",
    "test_files, test_targets = load_dataset('dogImages/test')\n",
    "\n",
    "# load list of dog names\n",
    "dog_names = [item[20:-1] for item in sorted(glob(\"dogImages/train/*/\"))]\n",
    "\n",
    "# print statistics about the dataset\n",
    "print('There are %d total dog categories.' % len(dog_names))\n",
    "print('There are %s total dog images.\\n' % len(np.hstack([train_files, valid_files, test_files])))\n",
    "print('There are %d training dog images.' % len(train_files))\n",
    "print('There are %d validation dog images.' % len(valid_files))\n",
    "print('There are %d test dog images.'% len(test_files))"
   ]
  },
  {
   "cell_type": "markdown",
   "metadata": {},
   "source": [
    "### Import Human Dataset\n",
    "\n",
    "In the code cell below, we import a dataset of human images, where the file paths are stored in the numpy array `human_files`."
   ]
  },
  {
   "cell_type": "code",
   "execution_count": 2,
   "metadata": {},
   "outputs": [
    {
     "name": "stdout",
     "output_type": "stream",
     "text": [
      "There are 13233 total human images.\n"
     ]
    }
   ],
   "source": [
    "import random\n",
    "random.seed(8675309)\n",
    "\n",
    "# load filenames in shuffled human dataset\n",
    "human_files = np.array(glob(\"lfw/*/*\"))\n",
    "random.shuffle(human_files)\n",
    "\n",
    "# print statistics about the dataset\n",
    "print('There are %d total human images.' % len(human_files))"
   ]
  },
  {
   "cell_type": "markdown",
   "metadata": {},
   "source": [
    "---\n",
    "<a id='step1'></a>\n",
    "## Step 1: Detect Humans\n",
    "\n",
    "We use OpenCV's implementation of [Haar feature-based cascade classifiers](http://docs.opencv.org/trunk/d7/d8b/tutorial_py_face_detection.html) to detect human faces in images.  OpenCV provides many pre-trained face detectors, stored as XML files on [github](https://github.com/opencv/opencv/tree/master/data/haarcascades).  We have downloaded one of these detectors and stored it in the `haarcascades` directory.\n",
    "\n",
    "In the next code cell, we demonstrate how to use this detector to find human faces in a sample image."
   ]
  },
  {
   "cell_type": "code",
   "execution_count": 3,
   "metadata": {},
   "outputs": [
    {
     "name": "stdout",
     "output_type": "stream",
     "text": [
      "Number of faces detected: 1\n"
     ]
    },
    {
     "data": {
      "image/png": "[encoded data removed]",
      "text/plain": [
       "<matplotlib.figure.Figure at 0x10cbb4f28>"
      ]
     },
     "metadata": {},
     "output_type": "display_data"
    }
   ],
   "source": [
    "import cv2                \n",
    "import matplotlib.pyplot as plt                        \n",
    "%matplotlib inline                               \n",
    "\n",
    "# extract pre-trained face detector\n",
    "face_cascade = cv2.CascadeClassifier('haarcascades/haarcascade_frontalface_alt.xml')\n",
    "\n",
    "# load color (BGR) image\n",
    "img = cv2.imread(human_files[3])\n",
    "# convert BGR image to grayscale\n",
    "gray = cv2.cvtColor(img, cv2.COLOR_BGR2GRAY)\n",
    "\n",
    "# find faces in image\n",
    "faces = face_cascade.detectMultiScale(gray)\n",
    "\n",
    "# print number of faces detected in the image\n",
    "print('Number of faces detected:', len(faces))\n",
    "\n",
    "# get bounding box for each detected face\n",
    "for (x,y,w,h) in faces:\n",
    "    # add bounding box to color image\n",
    "    cv2.rectangle(img,(x,y),(x+w,y+h),(255,0,0),2)\n",
    "    \n",
    "# convert BGR image to RGB for plotting\n",
    "cv_rgb = cv2.cvtColor(img, cv2.COLOR_BGR2RGB)\n",
    "\n",
    "# display the image, along with bounding box\n",
    "plt.imshow(cv_rgb)\n",
    "plt.show()"
   ]
  },
  {
   "cell_type": "markdown",
   "metadata": {},
   "source": [
    "Before using any of the face detectors, it is standard procedure to convert the images to grayscale.  The `detectMultiScale` function executes the classifier stored in `face_cascade` and takes the grayscale image as a parameter.  \n",
    "\n",
    "In the above code, `faces` is a numpy array of detected faces, where each row corresponds to a detected face.  Each detected face is a 1D array with four entries that specifies the bounding box of the detected face.  The first two entries in the array (extracted in the above code as `x` and `y`) specify the horizontal and vertical positions of the top left corner of the bounding box.  The last two entries in the array (extracted here as `w` and `h`) specify the width and height of the box.\n",
    "\n",
    "### Write a Human Face Detector\n",
    "\n",
    "We can use this procedure to write a function that returns `True` if a human face is detected in an image and `False` otherwise.  This function, aptly named `face_detector`, takes a string-valued file path to an image as input and appears in the code block below."
   ]
  },
  {
   "cell_type": "code",
   "execution_count": 4,
   "metadata": {},
   "outputs": [],
   "source": [
    "# returns \"True\" if face is detected in image stored at img_path\n",
    "def face_detector(img_path):\n",
    "    img = cv2.imread(img_path)\n",
    "    gray = cv2.cvtColor(img, cv2.COLOR_BGR2GRAY)\n",
    "    faces = face_cascade.detectMultiScale(gray)\n",
    "    return len(faces) > 0"
   ]
  },
  {
   "cell_type": "markdown",
   "metadata": {},
   "source": [
    "### (IMPLEMENTATION) Assess the Human Face Detector\n",
    "\n",
    "__Question 1:__ Use the code cell below to test the performance of the `face_detector` function.  \n",
    "- What percentage of the first 100 images in `human_files` have a detected human face?  \n",
    "- What percentage of the first 100 images in `dog_files` have a detected human face? \n",
    "\n",
    "Ideally, we would like 100% of human images with a detected face and 0% of dog images with a detected face.  You will see that our algorithm falls short of this goal, but still gives acceptable performance.  We extract the file paths for the first 100 images from each of the datasets and store them in the numpy arrays `human_files_short` and `dog_files_short`.\n",
    "\n",
    "__Answer:__ "
   ]
  },
  {
   "cell_type": "code",
   "execution_count": 5,
   "metadata": {},
   "outputs": [],
   "source": [
    "human_files_short = human_files[:100]\n",
    "dog_files_short = train_files[:100]\n",
    "# Do NOT modify the code above this line.\n",
    "\n",
    "## TODO: Test the performance of the face_detector algorithm \n",
    "## on the images in human_files_short and dog_files_short."
   ]
  },
  {
   "cell_type": "code",
   "execution_count": 6,
   "metadata": {},
   "outputs": [
    {
     "name": "stdout",
     "output_type": "stream",
     "text": [
      "performance of the face_detector algorithm on human images: 1.0\n",
      "performance of the face_detector algorithm on dog images: 0.11\n"
     ]
    }
   ],
   "source": [
    "# test performance of face detector on human images\n",
    "human_files_human_face = []\n",
    "for value in human_files_short:\n",
    "    human_files_human_face.append(face_detector(value))\n",
    "performance_on_human = sum(human_files_human_face) / 100\n",
    "print ('performance of the face_detector algorithm on human images: {}'.format(performance_on_human))\n",
    "\n",
    "# test performance of face detector on dog images\n",
    "dog_files_human_face = []\n",
    "for value in dog_files_short:\n",
    "    dog_files_human_face.append(face_detector(value))\n",
    "performance_on_dog = sum(dog_files_human_face) / 100\n",
    "print ('performance of the face_detector algorithm on dog images: {}'.format(performance_on_dog))"
   ]
  },
  {
   "cell_type": "markdown",
   "metadata": {},
   "source": [
    "Our face detector detects %100 of human faces in human images which is an excellent performance. We can trust its prediction on human face detection but it misclassifies %11 of dog faces with human faces. "
   ]
  },
  {
   "cell_type": "markdown",
   "metadata": {},
   "source": [
    "__Question 2:__ This algorithmic choice necessitates that we communicate to the user that we accept human images only when they provide a clear view of a face (otherwise, we risk having unneccessarily frustrated users!). In your opinion, is this a reasonable expectation to pose on the user? If not, can you think of a way to detect humans in images that does not necessitate an image with a clearly presented face?\n",
    "\n",
    "__Answer:__\n",
    "\n",
    "We suggest the face detector from OpenCV as a potential way to detect human images in your algorithm, but you are free to explore other approaches, especially approaches that make use of deep learning :).  Please use the code cell below to design and test your own face detection algorithm.  If you decide to pursue this _optional_ task, report performance on each of the datasets."
   ]
  },
  {
   "cell_type": "code",
   "execution_count": 7,
   "metadata": {},
   "outputs": [],
   "source": [
    "## (Optional) TODO: Report the performance of another  \n",
    "## face detection algorithm on the LFW dataset\n",
    "### Feel free to use as many code cells as needed."
   ]
  },
  {
   "cell_type": "markdown",
   "metadata": {},
   "source": [
    "I think it is not a reasonable excuse for an application to misclassify human face with animals or other objects. Every single person have different face and our brain is able to recognize that. Computers can do the same. Or better than misclasifying human and dog faces. As a result, humans have two eyes, a noise and a mouth etc but our face structure is unique that there is no similar creature to that. If the OpenCV face detector algorithm was much more precise, it could see that human noise shape a lot different than dog noise shape.I think human face detector algorithm should approach this problem not only looking for eyes and ears and mouth but also finding patterns in human face. "
   ]
  },
  {
   "cell_type": "code",
   "execution_count": 8,
   "metadata": {},
   "outputs": [
    {
     "data": {
      "image/png": "[encoded data removed]",
      "text/plain": [
       "<matplotlib.figure.Figure at 0x10f63fd30>"
      ]
     },
     "metadata": {},
     "output_type": "display_data"
    }
   ],
   "source": [
    "# I used the same OpenCV face detector to detect my own face in a picture. \n",
    "\n",
    "#find the image\n",
    "myFace = np.array(glob(\"myFace/*\"))\n",
    "#load the image\n",
    "myImg = cv2.imread(myFace[0])\n",
    "#convert BGR\n",
    "gray = cv2.cvtColor(myImg, cv2.COLOR_BGR2GRAY)\n",
    "# find faces in image\n",
    "faces = face_cascade.detectMultiScale(gray)\n",
    "# get bounding box for each detected face\n",
    "for (x,y,w,h) in faces:\n",
    "    # add bounding box to color image\n",
    "    cv2.rectangle(myImg,(x,y),(x+w,y+h),(255,0,0),2)\n",
    "    \n",
    "# convert BGR image to RGB for plotting\n",
    "cv_rgb = cv2.cvtColor(myImg, cv2.COLOR_BGR2RGB)\n",
    "\n",
    "# display the image, along with bounding box\n",
    "plt.imshow(cv_rgb)\n",
    "plt.show()"
   ]
  },
  {
   "cell_type": "markdown",
   "metadata": {},
   "source": [
    "---\n",
    "<a id='step2'></a>\n",
    "## Step 2: Detect Dogs\n",
    "\n",
    "In this section, we use a pre-trained [ResNet-50](http://ethereon.github.io/netscope/#/gist/db945b393d40bfa26006) model to detect dogs in images.  Our first line of code downloads the ResNet-50 model, along with weights that have been trained on [ImageNet](http://www.image-net.org/), a very large, very popular dataset used for image classification and other vision tasks.  ImageNet contains over 10 million URLs, each linking to an image containing an object from one of [1000 categories](https://gist.github.com/yrevar/942d3a0ac09ec9e5eb3a).  Given an image, this pre-trained ResNet-50 model returns a prediction (derived from the available categories in ImageNet) for the object that is contained in the image."
   ]
  },
  {
   "cell_type": "code",
   "execution_count": 10,
   "metadata": {},
   "outputs": [],
   "source": [
    "from keras.applications.resnet50 import ResNet50\n",
    "\n",
    "# define ResNet50 model\n",
    "ResNet50_model = ResNet50(weights='imagenet')"
   ]
  },
  {
   "cell_type": "markdown",
   "metadata": {},
   "source": [
    "### Pre-process the Data\n",
    "\n",
    "When using TensorFlow as backend, Keras CNNs require a 4D array (which we'll also refer to as a 4D tensor) as input, with shape\n",
    "\n",
    "$$\n",
    "(\\text{nb_samples}, \\text{rows}, \\text{columns}, \\text{channels}),\n",
    "$$\n",
    "\n",
    "where `nb_samples` corresponds to the total number of images (or samples), and `rows`, `columns`, and `channels` correspond to the number of rows, columns, and channels for each image, respectively.  \n",
    "\n",
    "The `path_to_tensor` function below takes a string-valued file path to a color image as input and returns a 4D tensor suitable for supplying to a Keras CNN.  The function first loads the image and resizes it to a square image that is $224 \\times 224$ pixels.  Next, the image is converted to an array, which is then resized to a 4D tensor.  In this case, since we are working with color images, each image has three channels.  Likewise, since we are processing a single image (or sample), the returned tensor will always have shape\n",
    "\n",
    "$$\n",
    "(1, 224, 224, 3).\n",
    "$$\n",
    "\n",
    "The `paths_to_tensor` function takes a numpy array of string-valued image paths as input and returns a 4D tensor with shape \n",
    "\n",
    "$$\n",
    "(\\text{nb_samples}, 224, 224, 3).\n",
    "$$\n",
    "\n",
    "Here, `nb_samples` is the number of samples, or number of images, in the supplied array of image paths.  It is best to think of `nb_samples` as the number of 3D tensors (where each 3D tensor corresponds to a different image) in your dataset!"
   ]
  },
  {
   "cell_type": "code",
   "execution_count": 11,
   "metadata": {},
   "outputs": [],
   "source": [
    "from keras.preprocessing import image                  \n",
    "from tqdm import tqdm\n",
    "\n",
    "def path_to_tensor(img_path):\n",
    "    # loads RGB image as PIL.Image.Image type\n",
    "    img = image.load_img(img_path, target_size=(224, 224))\n",
    "    # convert PIL.Image.Image type to 3D tensor with shape (224, 224, 3)\n",
    "    x = image.img_to_array(img)\n",
    "    # convert 3D tensor to 4D tensor with shape (1, 224, 224, 3) and return 4D tensor\n",
    "    return np.expand_dims(x, axis=0)\n",
    "\n",
    "def paths_to_tensor(img_paths):\n",
    "    list_of_tensors = [path_to_tensor(img_path) for img_path in tqdm(img_paths)]\n",
    "    return np.vstack(list_of_tensors)"
   ]
  },
  {
   "cell_type": "markdown",
   "metadata": {},
   "source": [
    "### Making Predictions with ResNet-50\n",
    "\n",
    "Getting the 4D tensor ready for ResNet-50, and for any other pre-trained model in Keras, requires some additional processing.  First, the RGB image is converted to BGR by reordering the channels.  All pre-trained models have the additional normalization step that the mean pixel (expressed in RGB as $[103.939, 116.779, 123.68]$ and calculated from all pixels in all images in ImageNet) must be subtracted from every pixel in each image.  This is implemented in the imported function `preprocess_input`.  If you're curious, you can check the code for `preprocess_input` [here](https://github.com/fchollet/keras/blob/master/keras/applications/imagenet_utils.py).\n",
    "\n",
    "Now that we have a way to format our image for supplying to ResNet-50, we are now ready to use the model to extract the predictions.  This is accomplished with the `predict` method, which returns an array whose $i$-th entry is the model's predicted probability that the image belongs to the $i$-th ImageNet category.  This is implemented in the `ResNet50_predict_labels` function below.\n",
    "\n",
    "By taking the argmax of the predicted probability vector, we obtain an integer corresponding to the model's predicted object class, which we can identify with an object category through the use of this [dictionary](https://gist.github.com/yrevar/942d3a0ac09ec9e5eb3a). "
   ]
  },
  {
   "cell_type": "code",
   "execution_count": 12,
   "metadata": {},
   "outputs": [],
   "source": [
    "from keras.applications.resnet50 import preprocess_input, decode_predictions\n",
    "\n",
    "def ResNet50_predict_labels(img_path):\n",
    "    # returns prediction vector for image located at img_path\n",
    "    img = preprocess_input(path_to_tensor(img_path))\n",
    "    return np.argmax(ResNet50_model.predict(img))"
   ]
  },
  {
   "cell_type": "markdown",
   "metadata": {},
   "source": [
    "### Write a Dog Detector\n",
    "\n",
    "While looking at the [dictionary](https://gist.github.com/yrevar/942d3a0ac09ec9e5eb3a), you will notice that the categories corresponding to dogs appear in an uninterrupted sequence and correspond to dictionary keys 151-268, inclusive, to include all categories from `'Chihuahua'` to `'Mexican hairless'`.  Thus, in order to check to see if an image is predicted to contain a dog by the pre-trained ResNet-50 model, we need only check if the `ResNet50_predict_labels` function above returns a value between 151 and 268 (inclusive).\n",
    "\n",
    "We use these ideas to complete the `dog_detector` function below, which returns `True` if a dog is detected in an image (and `False` if not)."
   ]
  },
  {
   "cell_type": "code",
   "execution_count": 13,
   "metadata": {},
   "outputs": [],
   "source": [
    "### returns \"True\" if a dog is detected in the image stored at img_path\n",
    "def dog_detector(img_path):\n",
    "    prediction = ResNet50_predict_labels(img_path)\n",
    "    return ((prediction <= 268) & (prediction >= 151)) "
   ]
  },
  {
   "cell_type": "markdown",
   "metadata": {},
   "source": [
    "### (IMPLEMENTATION) Assess the Dog Detector\n",
    "\n",
    "__Question 3:__ Use the code cell below to test the performance of your `dog_detector` function.  \n",
    "- What percentage of the images in `human_files_short` have a detected dog?  \n",
    "- What percentage of the images in `dog_files_short` have a detected dog?\n",
    "\n",
    "__Answer:__ "
   ]
  },
  {
   "cell_type": "code",
   "execution_count": 14,
   "metadata": {},
   "outputs": [],
   "source": [
    "### TODO: Test the performance of the dog_detector function\n",
    "### on the images in human_files_short and dog_files_short."
   ]
  },
  {
   "cell_type": "code",
   "execution_count": 15,
   "metadata": {},
   "outputs": [
    {
     "name": "stdout",
     "output_type": "stream",
     "text": [
      "performance of the ResNet dog_detector algorithm on human images: 0.0\n",
      "performance of the ResNet dog_detector algorithm on dog images: 1.0\n"
     ]
    }
   ],
   "source": [
    "# test performance of dog detector on human images\n",
    "human_files_human_face = []\n",
    "for value in human_files_short:\n",
    "    human_files_human_face.append(dog_detector(value))\n",
    "performance_on_human = sum(human_files_human_face) / 100\n",
    "print ('performance of the ResNet dog_detector algorithm on human images: {}'.format(performance_on_human))\n",
    "\n",
    "# test performance of dog detector on dog images\n",
    "dog_files_human_face = []\n",
    "for value in dog_files_short:\n",
    "    dog_files_human_face.append(dog_detector(value))\n",
    "performance_on_dog = sum(dog_files_human_face) / 100\n",
    "print ('performance of the ResNet dog_detector algorithm on dog images: {}'.format(performance_on_dog))"
   ]
  },
  {
   "cell_type": "markdown",
   "metadata": {},
   "source": [
    "ResNet-50 does a great job and identifies both human and dog faces properly. %0 dog is detected on human images and %100 dogs were detected in dog images."
   ]
  },
  {
   "cell_type": "markdown",
   "metadata": {},
   "source": [
    "---\n",
    "<a id='step3'></a>\n",
    "## Step 3: Create a CNN to Classify Dog Breeds (from Scratch)\n",
    "\n",
    "Now that we have functions for detecting humans and dogs in images, we need a way to predict breed from images.  In this step, you will create a CNN that classifies dog breeds.  You must create your CNN _from scratch_ (so, you can't use transfer learning _yet_!), and you must attain a test accuracy of at least 1%.  In Step 5 of this notebook, you will have the opportunity to use transfer learning to create a CNN that attains greatly improved accuracy.\n",
    "\n",
    "Be careful with adding too many trainable layers!  More parameters means longer training, which means you are more likely to need a GPU to accelerate the training process.  Thankfully, Keras provides a handy estimate of the time that each epoch is likely to take; you can extrapolate this estimate to figure out how long it will take for your algorithm to train. \n",
    "\n",
    "We mention that the task of assigning breed to dogs from images is considered exceptionally challenging.  To see why, consider that *even a human* would have great difficulty in distinguishing between a Brittany and a Welsh Springer Spaniel.  \n",
    "\n",
    "Brittany | Welsh Springer Spaniel\n",
    "- | - \n",
    "<img src=\"images/Brittany_02625.jpg\" width=\"100\"> | <img src=\"images/Welsh_springer_spaniel_08203.jpg\" width=\"200\">\n",
    "\n",
    "It is not difficult to find other dog breed pairs with minimal inter-class variation (for instance, Curly-Coated Retrievers and American Water Spaniels).  \n",
    "\n",
    "Curly-Coated Retriever | American Water Spaniel\n",
    "- | -\n",
    "<img src=\"images/Curly-coated_retriever_03896.jpg\" width=\"200\"> | <img src=\"images/American_water_spaniel_00648.jpg\" width=\"200\">\n",
    "\n",
    "\n",
    "Likewise, recall that labradors come in yellow, chocolate, and black.  Your vision-based algorithm will have to conquer this high intra-class variation to determine how to classify all of these different shades as the same breed.  \n",
    "\n",
    "Yellow Labrador | Chocolate Labrador | Black Labrador\n",
    "- | -\n",
    "<img src=\"images/Labrador_retriever_06457.jpg\" width=\"150\"> | <img src=\"images/Labrador_retriever_06455.jpg\" width=\"240\"> | <img src=\"images/Labrador_retriever_06449.jpg\" width=\"220\">\n",
    "\n",
    "We also mention that random chance presents an exceptionally low bar: setting aside the fact that the classes are slightly imabalanced, a random guess will provide a correct answer roughly 1 in 133 times, which corresponds to an accuracy of less than 1%.  \n",
    "\n",
    "Remember that the practice is far ahead of the theory in deep learning.  Experiment with many different architectures, and trust your intuition.  And, of course, have fun! \n",
    "\n",
    "### Pre-process the Data\n",
    "\n",
    "We rescale the images by dividing every pixel in every image by 255."
   ]
  },
  {
   "cell_type": "code",
   "execution_count": 16,
   "metadata": {},
   "outputs": [
    {
     "name": "stderr",
     "output_type": "stream",
     "text": [
      "100%|██████████| 6680/6680 [01:11<00:00, 93.61it/s] \n",
      "100%|██████████| 835/835 [00:10<00:00, 78.83it/s] \n",
      "100%|██████████| 836/836 [00:11<00:00, 70.80it/s] \n"
     ]
    }
   ],
   "source": [
    "from PIL import ImageFile                            \n",
    "ImageFile.LOAD_TRUNCATED_IMAGES = True                 \n",
    "\n",
    "# pre-process the data for Keras\n",
    "train_tensors = paths_to_tensor(train_files).astype('float32')/255\n",
    "valid_tensors = paths_to_tensor(valid_files).astype('float32')/255\n",
    "test_tensors = paths_to_tensor(test_files).astype('float32')/255"
   ]
  },
  {
   "cell_type": "markdown",
   "metadata": {},
   "source": [
    "### (IMPLEMENTATION) Model Architecture\n",
    "\n",
    "Create a CNN to classify dog breed.  At the end of your code cell block, summarize the layers of your model by executing the line:\n",
    "    \n",
    "        model.summary()\n",
    "\n",
    "We have imported some Python modules to get you started, but feel free to import as many modules as you need.  If you end up getting stuck, here's a hint that specifies a model that trains relatively fast on CPU and attains >1% test accuracy in 5 epochs:\n",
    "\n",
    "![Sample CNN](images/sample_cnn.png)\n",
    "           \n",
    "__Question 4:__ Outline the steps you took to get to your final CNN architecture and your reasoning at each step.  If you chose to use the hinted architecture above, describe why you think that CNN architecture should work well for the image classification task.\n",
    "\n",
    "__Answer:__ "
   ]
  },
  {
   "cell_type": "code",
   "execution_count": 17,
   "metadata": {},
   "outputs": [
    {
     "name": "stdout",
     "output_type": "stream",
     "text": [
      "_________________________________________________________________\n",
      "Layer (type)                 Output Shape              Param #   \n",
      "=================================================================\n",
      "conv2d_1 (Conv2D)            (None, 224, 224, 8)       104       \n",
      "_________________________________________________________________\n",
      "max_pooling2d_2 (MaxPooling2 (None, 112, 112, 8)       0         \n",
      "_________________________________________________________________\n",
      "conv2d_2 (Conv2D)            (None, 112, 112, 16)      528       \n",
      "_________________________________________________________________\n",
      "max_pooling2d_3 (MaxPooling2 (None, 56, 56, 16)        0         \n",
      "_________________________________________________________________\n",
      "dropout_1 (Dropout)          (None, 56, 56, 16)        0         \n",
      "_________________________________________________________________\n",
      "flatten_2 (Flatten)          (None, 50176)             0         \n",
      "_________________________________________________________________\n",
      "dense_1 (Dense)              (None, 100)               5017700   \n",
      "_________________________________________________________________\n",
      "dropout_2 (Dropout)          (None, 100)               0         \n",
      "_________________________________________________________________\n",
      "dense_2 (Dense)              (None, 133)               13433     \n",
      "=================================================================\n",
      "Total params: 5,031,765\n",
      "Trainable params: 5,031,765\n",
      "Non-trainable params: 0\n",
      "_________________________________________________________________\n"
     ]
    }
   ],
   "source": [
    "from keras.layers import Conv2D, MaxPooling2D, GlobalAveragePooling2D\n",
    "from keras.layers import Dropout, Flatten, Dense\n",
    "from keras.models import Sequential\n",
    "\n",
    "### TODO: Define your architecture.\n",
    "model = Sequential()\n",
    "model.add(Conv2D(filters=8, kernel_size=2, padding='same', activation='relu', input_shape=(224,224,3)))\n",
    "model.add(MaxPooling2D(pool_size=2))\n",
    "model.add(Conv2D(filters=16, kernel_size=2,padding='same', activation='relu'))\n",
    "model.add(MaxPooling2D(pool_size=2))\n",
    "model.add(Dropout(0.2))\n",
    "model.add(Flatten())\n",
    "model.add(Dense(100, activation='relu'))\n",
    "model.add(Dropout(0.3))\n",
    "model.add(Dense(133, activation='softmax'))\n",
    "\n",
    "model.summary()"
   ]
  },
  {
   "cell_type": "markdown",
   "metadata": {},
   "source": [
    "I started with a convolutional layer of 8 filters with 2x2 windows (kernel_size=2) and padding = 'same' because I dont wanna lose the edges of the images. (stride = 1 by default) input_shape is (224, 224, 3) because we have preprocessed the images and it is 3 because these are colorful images. \n",
    "\n",
    "Add max pooling layer to reduce the dimension half.\n",
    "\n",
    "Add another convolutional layer with same parameters with 16 filters to learn more patterns in the images.\n",
    "\n",
    "Add max pooling layer to reduce the dimension half.\n",
    "\n",
    "Add dropuot to prevent overfitting. \n",
    "\n",
    "Flatten images and feed into the Dense layer \n",
    "\n",
    "Finally, use softmax activation function becuase there are 133 dog types in the images. \n",
    "\n",
    "This architecture should work fine. I have 5 million parameters. Maybe that seems a lot for CPU but I will keep the epoch number low. "
   ]
  },
  {
   "cell_type": "code",
   "execution_count": 63,
   "metadata": {},
   "outputs": [
    {
     "data": {
      "image/svg+xml": [
       "<svg height=\"702pt\" viewBox=\"0.00 0.00 219.61 702.00\" width=\"220pt\" xmlns=\"http://www.w3.org/2000/svg\" xmlns:xlink=\"http://www.w3.org/1999/xlink\">\n",
       "<g class=\"graph\" id=\"graph0\" transform=\"scale(1 1) rotate(0) translate(4 698)\">\n",
       "<title>G</title>\n",
       "<polygon fill=\"#ffffff\" points=\"-4,4 -4,-698 215.6104,-698 215.6104,4 -4,4\" stroke=\"transparent\"/>\n",
       "<!-- 121096371224 -->\n",
       "<g class=\"node\" id=\"node1\">\n",
       "<title>121096371224</title>\n",
       "<polygon fill=\"none\" points=\"17.5171,-657.5 17.5171,-693.5 194.0933,-693.5 194.0933,-657.5 17.5171,-657.5\" stroke=\"#000000\"/>\n",
       "<text fill=\"#000000\" font-family=\"Times,serif\" font-size=\"14.00\" text-anchor=\"middle\" x=\"105.8052\" y=\"-671.3\">conv2d_1_input: InputLayer</text>\n",
       "</g>\n",
       "<!-- 121096477664 -->\n",
       "<g class=\"node\" id=\"node2\">\n",
       "<title>121096477664</title>\n",
       "<polygon fill=\"none\" points=\"42.7793,-584.5 42.7793,-620.5 168.8311,-620.5 168.8311,-584.5 42.7793,-584.5\" stroke=\"#000000\"/>\n",
       "<text fill=\"#000000\" font-family=\"Times,serif\" font-size=\"14.00\" text-anchor=\"middle\" x=\"105.8052\" y=\"-598.3\">conv2d_1: Conv2D</text>\n",
       "</g>\n",
       "<!-- 121096371224&#45;&gt;121096477664 -->\n",
       "<g class=\"edge\" id=\"edge1\">\n",
       "<title>121096371224-&gt;121096477664</title>\n",
       "<path d=\"M105.8052,-657.4551C105.8052,-649.3828 105.8052,-639.6764 105.8052,-630.6817\" fill=\"none\" stroke=\"#000000\"/>\n",
       "<polygon fill=\"#000000\" points=\"109.3053,-630.5903 105.8052,-620.5904 102.3053,-630.5904 109.3053,-630.5903\" stroke=\"#000000\"/>\n",
       "</g>\n",
       "<!-- 121152020376 -->\n",
       "<g class=\"node\" id=\"node3\">\n",
       "<title>121152020376</title>\n",
       "<polygon fill=\"none\" points=\"0,-511.5 0,-547.5 211.6104,-547.5 211.6104,-511.5 0,-511.5\" stroke=\"#000000\"/>\n",
       "<text fill=\"#000000\" font-family=\"Times,serif\" font-size=\"14.00\" text-anchor=\"middle\" x=\"105.8052\" y=\"-525.3\">max_pooling2d_2: MaxPooling2D</text>\n",
       "</g>\n",
       "<!-- 121096477664&#45;&gt;121152020376 -->\n",
       "<g class=\"edge\" id=\"edge2\">\n",
       "<title>121096477664-&gt;121152020376</title>\n",
       "<path d=\"M105.8052,-584.4551C105.8052,-576.3828 105.8052,-566.6764 105.8052,-557.6817\" fill=\"none\" stroke=\"#000000\"/>\n",
       "<polygon fill=\"#000000\" points=\"109.3053,-557.5903 105.8052,-547.5904 102.3053,-557.5904 109.3053,-557.5903\" stroke=\"#000000\"/>\n",
       "</g>\n",
       "<!-- 121152019480 -->\n",
       "<g class=\"node\" id=\"node4\">\n",
       "<title>121152019480</title>\n",
       "<polygon fill=\"none\" points=\"42.7793,-438.5 42.7793,-474.5 168.8311,-474.5 168.8311,-438.5 42.7793,-438.5\" stroke=\"#000000\"/>\n",
       "<text fill=\"#000000\" font-family=\"Times,serif\" font-size=\"14.00\" text-anchor=\"middle\" x=\"105.8052\" y=\"-452.3\">conv2d_2: Conv2D</text>\n",
       "</g>\n",
       "<!-- 121152020376&#45;&gt;121152019480 -->\n",
       "<g class=\"edge\" id=\"edge3\">\n",
       "<title>121152020376-&gt;121152019480</title>\n",
       "<path d=\"M105.8052,-511.4551C105.8052,-503.3828 105.8052,-493.6764 105.8052,-484.6817\" fill=\"none\" stroke=\"#000000\"/>\n",
       "<polygon fill=\"#000000\" points=\"109.3053,-484.5903 105.8052,-474.5904 102.3053,-484.5904 109.3053,-484.5903\" stroke=\"#000000\"/>\n",
       "</g>\n",
       "<!-- 121152017352 -->\n",
       "<g class=\"node\" id=\"node5\">\n",
       "<title>121152017352</title>\n",
       "<polygon fill=\"none\" points=\"0,-365.5 0,-401.5 211.6104,-401.5 211.6104,-365.5 0,-365.5\" stroke=\"#000000\"/>\n",
       "<text fill=\"#000000\" font-family=\"Times,serif\" font-size=\"14.00\" text-anchor=\"middle\" x=\"105.8052\" y=\"-379.3\">max_pooling2d_3: MaxPooling2D</text>\n",
       "</g>\n",
       "<!-- 121152019480&#45;&gt;121152017352 -->\n",
       "<g class=\"edge\" id=\"edge4\">\n",
       "<title>121152019480-&gt;121152017352</title>\n",
       "<path d=\"M105.8052,-438.4551C105.8052,-430.3828 105.8052,-420.6764 105.8052,-411.6817\" fill=\"none\" stroke=\"#000000\"/>\n",
       "<polygon fill=\"#000000\" points=\"109.3053,-411.5903 105.8052,-401.5904 102.3053,-411.5904 109.3053,-411.5903\" stroke=\"#000000\"/>\n",
       "</g>\n",
       "<!-- 121151326864 -->\n",
       "<g class=\"node\" id=\"node6\">\n",
       "<title>121151326864</title>\n",
       "<polygon fill=\"none\" points=\"42.0034,-292.5 42.0034,-328.5 169.6069,-328.5 169.6069,-292.5 42.0034,-292.5\" stroke=\"#000000\"/>\n",
       "<text fill=\"#000000\" font-family=\"Times,serif\" font-size=\"14.00\" text-anchor=\"middle\" x=\"105.8052\" y=\"-306.3\">dropout_1: Dropout</text>\n",
       "</g>\n",
       "<!-- 121152017352&#45;&gt;121151326864 -->\n",
       "<g class=\"edge\" id=\"edge5\">\n",
       "<title>121152017352-&gt;121151326864</title>\n",
       "<path d=\"M105.8052,-365.4551C105.8052,-357.3828 105.8052,-347.6764 105.8052,-338.6817\" fill=\"none\" stroke=\"#000000\"/>\n",
       "<polygon fill=\"#000000\" points=\"109.3053,-338.5903 105.8052,-328.5904 102.3053,-338.5904 109.3053,-338.5903\" stroke=\"#000000\"/>\n",
       "</g>\n",
       "<!-- 121151414056 -->\n",
       "<g class=\"node\" id=\"node7\">\n",
       "<title>121151414056</title>\n",
       "<polygon fill=\"none\" points=\"50.1724,-219.5 50.1724,-255.5 161.438,-255.5 161.438,-219.5 50.1724,-219.5\" stroke=\"#000000\"/>\n",
       "<text fill=\"#000000\" font-family=\"Times,serif\" font-size=\"14.00\" text-anchor=\"middle\" x=\"105.8052\" y=\"-233.3\">flatten_2: Flatten</text>\n",
       "</g>\n",
       "<!-- 121151326864&#45;&gt;121151414056 -->\n",
       "<g class=\"edge\" id=\"edge6\">\n",
       "<title>121151326864-&gt;121151414056</title>\n",
       "<path d=\"M105.8052,-292.4551C105.8052,-284.3828 105.8052,-274.6764 105.8052,-265.6817\" fill=\"none\" stroke=\"#000000\"/>\n",
       "<polygon fill=\"#000000\" points=\"109.3053,-265.5903 105.8052,-255.5904 102.3053,-265.5904 109.3053,-265.5903\" stroke=\"#000000\"/>\n",
       "</g>\n",
       "<!-- 121151411032 -->\n",
       "<g class=\"node\" id=\"node8\">\n",
       "<title>121151411032</title>\n",
       "<polygon fill=\"none\" points=\"53.6792,-146.5 53.6792,-182.5 157.9312,-182.5 157.9312,-146.5 53.6792,-146.5\" stroke=\"#000000\"/>\n",
       "<text fill=\"#000000\" font-family=\"Times,serif\" font-size=\"14.00\" text-anchor=\"middle\" x=\"105.8052\" y=\"-160.3\">dense_1: Dense</text>\n",
       "</g>\n",
       "<!-- 121151414056&#45;&gt;121151411032 -->\n",
       "<g class=\"edge\" id=\"edge7\">\n",
       "<title>121151414056-&gt;121151411032</title>\n",
       "<path d=\"M105.8052,-219.4551C105.8052,-211.3828 105.8052,-201.6764 105.8052,-192.6817\" fill=\"none\" stroke=\"#000000\"/>\n",
       "<polygon fill=\"#000000\" points=\"109.3053,-192.5903 105.8052,-182.5904 102.3053,-192.5904 109.3053,-192.5903\" stroke=\"#000000\"/>\n",
       "</g>\n",
       "<!-- 121151277768 -->\n",
       "<g class=\"node\" id=\"node9\">\n",
       "<title>121151277768</title>\n",
       "<polygon fill=\"none\" points=\"42.0034,-73.5 42.0034,-109.5 169.6069,-109.5 169.6069,-73.5 42.0034,-73.5\" stroke=\"#000000\"/>\n",
       "<text fill=\"#000000\" font-family=\"Times,serif\" font-size=\"14.00\" text-anchor=\"middle\" x=\"105.8052\" y=\"-87.3\">dropout_2: Dropout</text>\n",
       "</g>\n",
       "<!-- 121151411032&#45;&gt;121151277768 -->\n",
       "<g class=\"edge\" id=\"edge8\">\n",
       "<title>121151411032-&gt;121151277768</title>\n",
       "<path d=\"M105.8052,-146.4551C105.8052,-138.3828 105.8052,-128.6764 105.8052,-119.6817\" fill=\"none\" stroke=\"#000000\"/>\n",
       "<polygon fill=\"#000000\" points=\"109.3053,-119.5903 105.8052,-109.5904 102.3053,-119.5904 109.3053,-119.5903\" stroke=\"#000000\"/>\n",
       "</g>\n",
       "<!-- 121151575320 -->\n",
       "<g class=\"node\" id=\"node10\">\n",
       "<title>121151575320</title>\n",
       "<polygon fill=\"none\" points=\"53.6792,-.5 53.6792,-36.5 157.9312,-36.5 157.9312,-.5 53.6792,-.5\" stroke=\"#000000\"/>\n",
       "<text fill=\"#000000\" font-family=\"Times,serif\" font-size=\"14.00\" text-anchor=\"middle\" x=\"105.8052\" y=\"-14.3\">dense_2: Dense</text>\n",
       "</g>\n",
       "<!-- 121151277768&#45;&gt;121151575320 -->\n",
       "<g class=\"edge\" id=\"edge9\">\n",
       "<title>121151277768-&gt;121151575320</title>\n",
       "<path d=\"M105.8052,-73.4551C105.8052,-65.3828 105.8052,-55.6764 105.8052,-46.6817\" fill=\"none\" stroke=\"#000000\"/>\n",
       "<polygon fill=\"#000000\" points=\"109.3053,-46.5903 105.8052,-36.5904 102.3053,-46.5904 109.3053,-46.5903\" stroke=\"#000000\"/>\n",
       "</g>\n",
       "</g>\n",
       "</svg>"
      ],
      "text/plain": [
       "<IPython.core.display.SVG object>"
      ]
     },
     "execution_count": 63,
     "metadata": {},
     "output_type": "execute_result"
    }
   ],
   "source": [
    "from IPython.display import SVG\n",
    "from keras.utils.vis_utils import model_to_dot\n",
    "\n",
    "SVG(model_to_dot(model).create(prog='dot', format='svg'))"
   ]
  },
  {
   "cell_type": "markdown",
   "metadata": {},
   "source": [
    "### Compile the Model"
   ]
  },
  {
   "cell_type": "code",
   "execution_count": 18,
   "metadata": {},
   "outputs": [],
   "source": [
    "model.compile(optimizer='rmsprop', loss='categorical_crossentropy', metrics=['accuracy'])"
   ]
  },
  {
   "cell_type": "markdown",
   "metadata": {},
   "source": [
    "### (IMPLEMENTATION) Train the Model\n",
    "\n",
    "Train your model in the code cell below.  Use model checkpointing to save the model that attains the best validation loss.\n",
    "\n",
    "You are welcome to [augment the training data](https://blog.keras.io/building-powerful-image-classification-models-using-very-little-data.html), but this is not a requirement. "
   ]
  },
  {
   "cell_type": "code",
   "execution_count": 19,
   "metadata": {},
   "outputs": [
    {
     "name": "stdout",
     "output_type": "stream",
     "text": [
      "Train on 6680 samples, validate on 835 samples\n",
      "Epoch 1/5\n",
      "6660/6680 [============================>.] - ETA: 0s - loss: 5.0667 - acc: 0.0074Epoch 00000: val_loss improved from inf to 4.87135, saving model to saved_models/weights.best.from_scratch.hdf5\n",
      "6680/6680 [==============================] - 168s - loss: 5.0661 - acc: 0.0073 - val_loss: 4.8713 - val_acc: 0.0120\n",
      "Epoch 2/5\n",
      "6660/6680 [============================>.] - ETA: 0s - loss: 4.8144 - acc: 0.0180Epoch 00001: val_loss improved from 4.87135 to 4.71953, saving model to saved_models/weights.best.from_scratch.hdf5\n",
      "6680/6680 [==============================] - 161s - loss: 4.8147 - acc: 0.0180 - val_loss: 4.7195 - val_acc: 0.0323\n",
      "Epoch 3/5\n",
      "6660/6680 [============================>.] - ETA: 0s - loss: 4.5611 - acc: 0.0351Epoch 00002: val_loss improved from 4.71953 to 4.50121, saving model to saved_models/weights.best.from_scratch.hdf5\n",
      "6680/6680 [==============================] - 149s - loss: 4.5608 - acc: 0.0353 - val_loss: 4.5012 - val_acc: 0.0455\n",
      "Epoch 4/5\n",
      "6660/6680 [============================>.] - ETA: 0s - loss: 4.2682 - acc: 0.0650Epoch 00003: val_loss improved from 4.50121 to 4.41735, saving model to saved_models/weights.best.from_scratch.hdf5\n",
      "6680/6680 [==============================] - 148s - loss: 4.2673 - acc: 0.0650 - val_loss: 4.4173 - val_acc: 0.0407\n",
      "Epoch 5/5\n",
      "6660/6680 [============================>.] - ETA: 0s - loss: 3.9379 - acc: 0.1051Epoch 00004: val_loss improved from 4.41735 to 4.33097, saving model to saved_models/weights.best.from_scratch.hdf5\n",
      "6680/6680 [==============================] - 152s - loss: 3.9382 - acc: 0.1049 - val_loss: 4.3310 - val_acc: 0.0695\n"
     ]
    },
    {
     "data": {
      "text/plain": [
       "<keras.callbacks.History at 0x1c2b245588>"
      ]
     },
     "execution_count": 19,
     "metadata": {},
     "output_type": "execute_result"
    }
   ],
   "source": [
    "from keras.callbacks import ModelCheckpoint  \n",
    "\n",
    "### TODO: specify the number of epochs that you would like to use to train the model.\n",
    "\n",
    "epochs = 5\n",
    "\n",
    "### Do NOT modify the code below this line.\n",
    "\n",
    "checkpointer = ModelCheckpoint(filepath='saved_models/weights.best.from_scratch.hdf5', \n",
    "                               verbose=1, save_best_only=True)\n",
    "\n",
    "model.fit(train_tensors, train_targets, \n",
    "          validation_data=(valid_tensors, valid_targets),\n",
    "          epochs=epochs, batch_size=20, callbacks=[checkpointer], verbose=1)"
   ]
  },
  {
   "cell_type": "markdown",
   "metadata": {},
   "source": [
    "It took about 15 min on my mac to train this model. I think it is not bad for a CPU. "
   ]
  },
  {
   "cell_type": "markdown",
   "metadata": {},
   "source": [
    "### Load the Model with the Best Validation Loss"
   ]
  },
  {
   "cell_type": "code",
   "execution_count": 20,
   "metadata": {},
   "outputs": [],
   "source": [
    "model.load_weights('saved_models/weights.best.from_scratch.hdf5')"
   ]
  },
  {
   "cell_type": "markdown",
   "metadata": {},
   "source": [
    "### Test the Model\n",
    "\n",
    "Try out your model on the test dataset of dog images.  Ensure that your test accuracy is greater than 1%."
   ]
  },
  {
   "cell_type": "code",
   "execution_count": 21,
   "metadata": {},
   "outputs": [
    {
     "name": "stdout",
     "output_type": "stream",
     "text": [
      "Test accuracy: 6.4593%\n"
     ]
    }
   ],
   "source": [
    "# get index of predicted dog breed for each image in test set\n",
    "dog_breed_predictions = [np.argmax(model.predict(np.expand_dims(tensor, axis=0))) for tensor in test_tensors]\n",
    "\n",
    "# report test accuracy\n",
    "test_accuracy = 100*np.sum(np.array(dog_breed_predictions)==np.argmax(test_targets, axis=1))/len(dog_breed_predictions)\n",
    "print('Test accuracy: %.4f%%' % test_accuracy)"
   ]
  },
  {
   "cell_type": "markdown",
   "metadata": {},
   "source": [
    "---\n",
    "<a id='step4'></a>\n",
    "## Step 4: Use a CNN to Classify Dog Breeds\n",
    "\n",
    "To reduce training time without sacrificing accuracy, we show you how to train a CNN using transfer learning.  In the following step, you will get a chance to use transfer learning to train your own CNN.\n",
    "\n",
    "### Obtain Bottleneck Features"
   ]
  },
  {
   "cell_type": "code",
   "execution_count": 23,
   "metadata": {},
   "outputs": [],
   "source": [
    "bottleneck_features = np.load('bottleneck_features/DogVGG16Data.npz')\n",
    "train_VGG16 = bottleneck_features['train']\n",
    "valid_VGG16 = bottleneck_features['valid']\n",
    "test_VGG16 = bottleneck_features['test']"
   ]
  },
  {
   "cell_type": "markdown",
   "metadata": {},
   "source": [
    "### Model Architecture\n",
    "\n",
    "The model uses the the pre-trained VGG-16 model as a fixed feature extractor, where the last convolutional output of VGG-16 is fed as input to our model.  We only add a global average pooling layer and a fully connected layer, where the latter contains one node for each dog category and is equipped with a softmax."
   ]
  },
  {
   "cell_type": "code",
   "execution_count": 24,
   "metadata": {},
   "outputs": [
    {
     "name": "stdout",
     "output_type": "stream",
     "text": [
      "_________________________________________________________________\n",
      "Layer (type)                 Output Shape              Param #   \n",
      "=================================================================\n",
      "global_average_pooling2d_1 ( (None, 512)               0         \n",
      "_________________________________________________________________\n",
      "dense_3 (Dense)              (None, 133)               68229     \n",
      "=================================================================\n",
      "Total params: 68,229\n",
      "Trainable params: 68,229\n",
      "Non-trainable params: 0\n",
      "_________________________________________________________________\n"
     ]
    }
   ],
   "source": [
    "VGG16_model = Sequential()\n",
    "VGG16_model.add(GlobalAveragePooling2D(input_shape=train_VGG16.shape[1:]))\n",
    "VGG16_model.add(Dense(133, activation='softmax'))\n",
    "\n",
    "VGG16_model.summary()"
   ]
  },
  {
   "cell_type": "markdown",
   "metadata": {},
   "source": [
    "### Compile the Model"
   ]
  },
  {
   "cell_type": "code",
   "execution_count": 25,
   "metadata": {},
   "outputs": [],
   "source": [
    "VGG16_model.compile(loss='categorical_crossentropy', optimizer='rmsprop', metrics=['accuracy'])"
   ]
  },
  {
   "cell_type": "markdown",
   "metadata": {},
   "source": [
    "### Train the Model"
   ]
  },
  {
   "cell_type": "code",
   "execution_count": 39,
   "metadata": {},
   "outputs": [
    {
     "name": "stdout",
     "output_type": "stream",
     "text": [
      "Train on 6680 samples, validate on 835 samples\n",
      "Epoch 1/50\n",
      "6380/6680 [===========================>..] - ETA: 0s - loss: 5.9916 - acc: 0.6241Epoch 00000: val_loss improved from inf to 7.07724, saving model to saved_models/weights.best.VGG16.hdf5\n",
      "6680/6680 [==============================] - 1s - loss: 6.0081 - acc: 0.6231 - val_loss: 7.0772 - val_acc: 0.4922\n",
      "Epoch 2/50\n",
      "6540/6680 [============================>.] - ETA: 0s - loss: 5.9606 - acc: 0.6266Epoch 00001: val_loss improved from 7.07724 to 7.03943, saving model to saved_models/weights.best.VGG16.hdf5\n",
      "6680/6680 [==============================] - 1s - loss: 5.9515 - acc: 0.6272 - val_loss: 7.0394 - val_acc: 0.5126\n",
      "Epoch 3/50\n",
      "6420/6680 [===========================>..] - ETA: 0s - loss: 5.9182 - acc: 0.6305Epoch 00002: val_loss improved from 7.03943 to 7.00472, saving model to saved_models/weights.best.VGG16.hdf5\n",
      "6680/6680 [==============================] - 1s - loss: 5.9413 - acc: 0.6292 - val_loss: 7.0047 - val_acc: 0.5006\n",
      "Epoch 4/50\n",
      "6480/6680 [============================>.] - ETA: 0s - loss: 5.9106 - acc: 0.6312Epoch 00003: val_loss improved from 7.00472 to 6.99080, saving model to saved_models/weights.best.VGG16.hdf5\n",
      "6680/6680 [==============================] - 1s - loss: 5.9252 - acc: 0.6302 - val_loss: 6.9908 - val_acc: 0.5030\n",
      "Epoch 5/50\n",
      "6460/6680 [============================>.] - ETA: 0s - loss: 5.9074 - acc: 0.6308Epoch 00004: val_loss improved from 6.99080 to 6.96618, saving model to saved_models/weights.best.VGG16.hdf5\n",
      "6680/6680 [==============================] - 1s - loss: 5.9204 - acc: 0.6301 - val_loss: 6.9662 - val_acc: 0.5090\n",
      "Epoch 6/50\n",
      "6480/6680 [============================>.] - ETA: 0s - loss: 5.8823 - acc: 0.6329Epoch 00005: val_loss improved from 6.96618 to 6.96011, saving model to saved_models/weights.best.VGG16.hdf5\n",
      "6680/6680 [==============================] - 1s - loss: 5.9195 - acc: 0.6302 - val_loss: 6.9601 - val_acc: 0.5102\n",
      "Epoch 7/50\n",
      "6660/6680 [============================>.] - ETA: 0s - loss: 5.9127 - acc: 0.6317Epoch 00006: val_loss improved from 6.96011 to 6.95130, saving model to saved_models/weights.best.VGG16.hdf5\n",
      "6680/6680 [==============================] - 1s - loss: 5.9119 - acc: 0.6317 - val_loss: 6.9513 - val_acc: 0.5078\n",
      "Epoch 8/50\n",
      "6440/6680 [===========================>..] - ETA: 0s - loss: 5.8999 - acc: 0.6337Epoch 00007: val_loss did not improve\n",
      "6680/6680 [==============================] - 1s - loss: 5.9100 - acc: 0.6331 - val_loss: 6.9681 - val_acc: 0.5030\n",
      "Epoch 9/50\n",
      "6660/6680 [============================>.] - ETA: 0s - loss: 5.9087 - acc: 0.6329Epoch 00008: val_loss did not improve\n",
      "6680/6680 [==============================] - 1s - loss: 5.9079 - acc: 0.6329 - val_loss: 7.0096 - val_acc: 0.4946\n",
      "Epoch 10/50\n",
      "6620/6680 [============================>.] - ETA: 0s - loss: 5.9221 - acc: 0.6322Epoch 00009: val_loss did not improve\n",
      "6680/6680 [==============================] - 1s - loss: 5.9090 - acc: 0.6329 - val_loss: 7.0358 - val_acc: 0.5018\n",
      "Epoch 11/50\n",
      "6500/6680 [============================>.] - ETA: 0s - loss: 5.8838 - acc: 0.6340Epoch 00010: val_loss did not improve\n",
      "6680/6680 [==============================] - 1s - loss: 5.9084 - acc: 0.6325 - val_loss: 6.9733 - val_acc: 0.5150\n",
      "Epoch 12/50\n",
      "6560/6680 [============================>.] - ETA: 0s - loss: 5.8949 - acc: 0.6329Epoch 00011: val_loss did not improve\n",
      "6680/6680 [==============================] - 1s - loss: 5.8941 - acc: 0.6328 - val_loss: 6.9860 - val_acc: 0.4982\n",
      "Epoch 13/50\n",
      "6620/6680 [============================>.] - ETA: 0s - loss: 5.8666 - acc: 0.6335Epoch 00012: val_loss did not improve\n",
      "6680/6680 [==============================] - 1s - loss: 5.8627 - acc: 0.6337 - val_loss: 6.9924 - val_acc: 0.4994\n",
      "Epoch 14/50\n",
      "6580/6680 [============================>.] - ETA: 0s - loss: 5.8486 - acc: 0.6354Epoch 00013: val_loss improved from 6.95130 to 6.94801, saving model to saved_models/weights.best.VGG16.hdf5\n",
      "6680/6680 [==============================] - 1s - loss: 5.8528 - acc: 0.6352 - val_loss: 6.9480 - val_acc: 0.5102\n",
      "Epoch 15/50\n",
      "6360/6680 [===========================>..] - ETA: 0s - loss: 5.8498 - acc: 0.6357Epoch 00014: val_loss improved from 6.94801 to 6.90375, saving model to saved_models/weights.best.VGG16.hdf5\n",
      "6680/6680 [==============================] - 1s - loss: 5.8446 - acc: 0.6361 - val_loss: 6.9038 - val_acc: 0.5126\n",
      "Epoch 16/50\n",
      "6460/6680 [============================>.] - ETA: 0s - loss: 5.8171 - acc: 0.6385Epoch 00015: val_loss did not improve\n",
      "6680/6680 [==============================] - 1s - loss: 5.8461 - acc: 0.6367 - val_loss: 6.9674 - val_acc: 0.5102\n",
      "Epoch 17/50\n",
      "6480/6680 [============================>.] - ETA: 0s - loss: 5.8617 - acc: 0.6360Epoch 00016: val_loss did not improve\n",
      "6680/6680 [==============================] - 1s - loss: 5.8430 - acc: 0.6371 - val_loss: 6.9143 - val_acc: 0.5114\n",
      "Epoch 18/50\n",
      "6520/6680 [============================>.] - ETA: 0s - loss: 5.8343 - acc: 0.6379Epoch 00017: val_loss did not improve\n",
      "6680/6680 [==============================] - 1s - loss: 5.8418 - acc: 0.6374 - val_loss: 6.9505 - val_acc: 0.5030\n",
      "Epoch 19/50\n",
      "6600/6680 [============================>.] - ETA: 0s - loss: 5.8170 - acc: 0.6391Epoch 00018: val_loss improved from 6.90375 to 6.89299, saving model to saved_models/weights.best.VGG16.hdf5\n",
      "6680/6680 [==============================] - 1s - loss: 5.8415 - acc: 0.6376 - val_loss: 6.8930 - val_acc: 0.5162\n",
      "Epoch 20/50\n",
      "6640/6680 [============================>.] - ETA: 0s - loss: 5.8403 - acc: 0.6372Epoch 00019: val_loss improved from 6.89299 to 6.89280, saving model to saved_models/weights.best.VGG16.hdf5\n",
      "6680/6680 [==============================] - 1s - loss: 5.8415 - acc: 0.6371 - val_loss: 6.8928 - val_acc: 0.5066\n",
      "Epoch 21/50\n",
      "6600/6680 [============================>.] - ETA: 0s - loss: 5.7486 - acc: 0.6394Epoch 00020: val_loss improved from 6.89280 to 6.87843, saving model to saved_models/weights.best.VGG16.hdf5\n",
      "6680/6680 [==============================] - 1s - loss: 5.7508 - acc: 0.6391 - val_loss: 6.8784 - val_acc: 0.5078\n",
      "Epoch 22/50\n",
      "6480/6680 [============================>.] - ETA: 0s - loss: 5.6687 - acc: 0.6434Epoch 00021: val_loss improved from 6.87843 to 6.78145, saving model to saved_models/weights.best.VGG16.hdf5\n",
      "6680/6680 [==============================] - 1s - loss: 5.6707 - acc: 0.6433 - val_loss: 6.7814 - val_acc: 0.5090\n",
      "Epoch 23/50\n",
      "6640/6680 [============================>.] - ETA: 0s - loss: 5.5828 - acc: 0.6479Epoch 00022: val_loss did not improve\n",
      "6680/6680 [==============================] - 1s - loss: 5.5764 - acc: 0.6482 - val_loss: 6.8570 - val_acc: 0.5102\n",
      "Epoch 24/50\n",
      "6520/6680 [============================>.] - ETA: 0s - loss: 5.5294 - acc: 0.6543Epoch 00023: val_loss improved from 6.78145 to 6.74607, saving model to saved_models/weights.best.VGG16.hdf5\n",
      "6680/6680 [==============================] - 1s - loss: 5.5514 - acc: 0.6530 - val_loss: 6.7461 - val_acc: 0.5174\n",
      "Epoch 25/50\n",
      "6500/6680 [============================>.] - ETA: 0s - loss: 5.5597 - acc: 0.6537Epoch 00024: val_loss improved from 6.74607 to 6.68643, saving model to saved_models/weights.best.VGG16.hdf5\n",
      "6680/6680 [==============================] - 1s - loss: 5.5449 - acc: 0.6546 - val_loss: 6.6864 - val_acc: 0.5281\n",
      "Epoch 26/50\n",
      "6520/6680 [============================>.] - ETA: 0s - loss: 5.4505 - acc: 0.6580Epoch 00025: val_loss improved from 6.68643 to 6.66965, saving model to saved_models/weights.best.VGG16.hdf5\n",
      "6680/6680 [==============================] - 1s - loss: 5.4527 - acc: 0.6579 - val_loss: 6.6697 - val_acc: 0.5281\n",
      "Epoch 27/50\n",
      "6420/6680 [===========================>..] - ETA: 0s - loss: 5.3767 - acc: 0.6615Epoch 00026: val_loss improved from 6.66965 to 6.55389, saving model to saved_models/weights.best.VGG16.hdf5\n",
      "6680/6680 [==============================] - 1s - loss: 5.3755 - acc: 0.6615 - val_loss: 6.5539 - val_acc: 0.5329\n",
      "Epoch 28/50\n",
      "6520/6680 [============================>.] - ETA: 0s - loss: 5.3223 - acc: 0.6647Epoch 00027: val_loss did not improve\n",
      "6680/6680 [==============================] - 1s - loss: 5.3203 - acc: 0.6650 - val_loss: 6.5677 - val_acc: 0.5210\n",
      "Epoch 29/50\n"
     ]
    },
    {
     "name": "stdout",
     "output_type": "stream",
     "text": [
      "6600/6680 [============================>.] - ETA: 0s - loss: 5.2938 - acc: 0.6691Epoch 00028: val_loss improved from 6.55389 to 6.52806, saving model to saved_models/weights.best.VGG16.hdf5\n",
      "6680/6680 [==============================] - 1s - loss: 5.3078 - acc: 0.6681 - val_loss: 6.5281 - val_acc: 0.5269\n",
      "Epoch 30/50\n",
      "6520/6680 [============================>.] - ETA: 0s - loss: 5.2879 - acc: 0.6695Epoch 00029: val_loss did not improve\n",
      "6680/6680 [==============================] - 1s - loss: 5.2988 - acc: 0.6689 - val_loss: 6.6037 - val_acc: 0.5246\n",
      "Epoch 31/50\n",
      "6600/6680 [============================>.] - ETA: 0s - loss: 5.2889 - acc: 0.6708Epoch 00030: val_loss did not improve\n",
      "6680/6680 [==============================] - 1s - loss: 5.2956 - acc: 0.6704 - val_loss: 6.5655 - val_acc: 0.5210\n",
      "Epoch 32/50\n",
      "6660/6680 [============================>.] - ETA: 0s - loss: 5.2808 - acc: 0.6712Epoch 00031: val_loss did not improve\n",
      "6680/6680 [==============================] - 1s - loss: 5.2940 - acc: 0.6704 - val_loss: 6.5555 - val_acc: 0.5389\n",
      "Epoch 33/50\n",
      "6420/6680 [===========================>..] - ETA: 0s - loss: 5.2750 - acc: 0.6721Epoch 00032: val_loss did not improve\n",
      "6680/6680 [==============================] - 1s - loss: 5.2945 - acc: 0.6708 - val_loss: 6.5297 - val_acc: 0.5305\n",
      "Epoch 34/50\n",
      "6440/6680 [===========================>..] - ETA: 0s - loss: 5.3016 - acc: 0.6703Epoch 00033: val_loss did not improve\n",
      "6680/6680 [==============================] - 1s - loss: 5.2907 - acc: 0.6710 - val_loss: 6.5848 - val_acc: 0.5317\n",
      "Epoch 35/50\n",
      "6420/6680 [===========================>..] - ETA: 0s - loss: 5.3066 - acc: 0.6706Epoch 00034: val_loss did not improve\n",
      "6680/6680 [==============================] - 1s - loss: 5.2888 - acc: 0.6716 - val_loss: 6.6124 - val_acc: 0.5317\n",
      "Epoch 36/50\n",
      "6660/6680 [============================>.] - ETA: 0s - loss: 5.2867 - acc: 0.6712Epoch 00035: val_loss did not improve\n",
      "6680/6680 [==============================] - 1s - loss: 5.2878 - acc: 0.6711 - val_loss: 6.5535 - val_acc: 0.5401\n",
      "Epoch 37/50\n",
      "6400/6680 [===========================>..] - ETA: 0s - loss: 5.2872 - acc: 0.6716Epoch 00036: val_loss did not improve\n",
      "6680/6680 [==============================] - 1s - loss: 5.2876 - acc: 0.6716 - val_loss: 6.5667 - val_acc: 0.5329\n",
      "Epoch 38/50\n",
      "6600/6680 [============================>.] - ETA: 0s - loss: 5.3006 - acc: 0.6708Epoch 00037: val_loss did not improve\n",
      "6680/6680 [==============================] - 1s - loss: 5.2879 - acc: 0.6716 - val_loss: 6.6163 - val_acc: 0.5293\n",
      "Epoch 39/50\n",
      "6660/6680 [============================>.] - ETA: 0s - loss: 5.2941 - acc: 0.6713Epoch 00038: val_loss improved from 6.52806 to 6.49956, saving model to saved_models/weights.best.VGG16.hdf5\n",
      "6680/6680 [==============================] - 1s - loss: 5.2879 - acc: 0.6717 - val_loss: 6.4996 - val_acc: 0.5329\n",
      "Epoch 40/50\n",
      "6460/6680 [============================>.] - ETA: 0s - loss: 5.3006 - acc: 0.6709Epoch 00039: val_loss did not improve\n",
      "6680/6680 [==============================] - 1s - loss: 5.2876 - acc: 0.6717 - val_loss: 6.5284 - val_acc: 0.5389\n",
      "Epoch 41/50\n",
      "6580/6680 [============================>.] - ETA: 0s - loss: 5.2918 - acc: 0.6714Epoch 00040: val_loss did not improve\n",
      "6680/6680 [==============================] - 1s - loss: 5.2874 - acc: 0.6717 - val_loss: 6.5697 - val_acc: 0.5341\n",
      "Epoch 42/50\n",
      "6600/6680 [============================>.] - ETA: 0s - loss: 5.2876 - acc: 0.6717Epoch 00041: val_loss did not improve\n",
      "6680/6680 [==============================] - 1s - loss: 5.2870 - acc: 0.6717 - val_loss: 6.5896 - val_acc: 0.5401\n",
      "Epoch 43/50\n",
      "6380/6680 [===========================>..] - ETA: 0s - loss: 5.2969 - acc: 0.6712Epoch 00042: val_loss did not improve\n",
      "6680/6680 [==============================] - 1s - loss: 5.2859 - acc: 0.6719 - val_loss: 6.5436 - val_acc: 0.5389\n",
      "Epoch 44/50\n",
      "6620/6680 [============================>.] - ETA: 0s - loss: 5.2803 - acc: 0.6722Epoch 00043: val_loss did not improve\n",
      "6680/6680 [==============================] - 1s - loss: 5.2860 - acc: 0.6719 - val_loss: 6.5959 - val_acc: 0.5401\n",
      "Epoch 45/50\n",
      "6400/6680 [===========================>..] - ETA: 0s - loss: 5.2591 - acc: 0.6736Epoch 00044: val_loss did not improve\n",
      "6680/6680 [==============================] - 1s - loss: 5.2872 - acc: 0.6719 - val_loss: 6.5006 - val_acc: 0.5377\n",
      "Epoch 46/50\n",
      "6660/6680 [============================>.] - ETA: 0s - loss: 5.2808 - acc: 0.6724Epoch 00045: val_loss did not improve\n",
      "6680/6680 [==============================] - 1s - loss: 5.2867 - acc: 0.6720 - val_loss: 6.5522 - val_acc: 0.5425\n",
      "Epoch 47/50\n",
      "6520/6680 [============================>.] - ETA: 0s - loss: 5.2839 - acc: 0.6721Epoch 00046: val_loss did not improve\n",
      "6680/6680 [==============================] - 1s - loss: 5.2876 - acc: 0.6719 - val_loss: 6.5735 - val_acc: 0.5341\n",
      "Epoch 48/50\n",
      "6620/6680 [============================>.] - ETA: 0s - loss: 5.2826 - acc: 0.6722Epoch 00047: val_loss did not improve\n",
      "6680/6680 [==============================] - 1s - loss: 5.2858 - acc: 0.6720 - val_loss: 6.5773 - val_acc: 0.5329\n",
      "Epoch 49/50\n",
      "6580/6680 [============================>.] - ETA: 0s - loss: 5.2860 - acc: 0.6719Epoch 00048: val_loss did not improve\n",
      "6680/6680 [==============================] - 1s - loss: 5.2865 - acc: 0.6719 - val_loss: 6.5234 - val_acc: 0.5401\n",
      "Epoch 50/50\n",
      "6380/6680 [===========================>..] - ETA: 0s - loss: 5.2843 - acc: 0.6721Epoch 00049: val_loss did not improve\n",
      "6680/6680 [==============================] - 1s - loss: 5.2859 - acc: 0.6720 - val_loss: 6.5449 - val_acc: 0.5389\n"
     ]
    }
   ],
   "source": [
    "checkpointer = ModelCheckpoint(filepath='saved_models/weights.best.VGG16.hdf5', \n",
    "                               verbose=1, save_best_only=True)\n",
    "\n",
    "VGG_16_history = VGG16_model.fit(train_VGG16, train_targets, \n",
    "          validation_data=(valid_VGG16, valid_targets),\n",
    "          epochs=50, batch_size=20, callbacks=[checkpointer], verbose=1)"
   ]
  },
  {
   "cell_type": "markdown",
   "metadata": {},
   "source": [
    "### Load the Model with the Best Validation Loss"
   ]
  },
  {
   "cell_type": "code",
   "execution_count": 40,
   "metadata": {},
   "outputs": [],
   "source": [
    "VGG16_model.load_weights('saved_models/weights.best.VGG16.hdf5')"
   ]
  },
  {
   "cell_type": "markdown",
   "metadata": {},
   "source": [
    "### Test the Model\n",
    "\n",
    "Now, we can use the CNN to test how well it identifies breed within our test dataset of dog images.  We print the test accuracy below."
   ]
  },
  {
   "cell_type": "code",
   "execution_count": 41,
   "metadata": {},
   "outputs": [
    {
     "name": "stdout",
     "output_type": "stream",
     "text": [
      "Test accuracy: 52.5120%\n"
     ]
    }
   ],
   "source": [
    "# get index of predicted dog breed for each image in test set\n",
    "VGG16_predictions = [np.argmax(VGG16_model.predict(np.expand_dims(feature, axis=0))) for feature in test_VGG16]\n",
    "\n",
    "# report test accuracy\n",
    "test_accuracy = 100*np.sum(np.array(VGG16_predictions)==np.argmax(test_targets, axis=1))/len(VGG16_predictions)\n",
    "print('Test accuracy: %.4f%%' % test_accuracy)"
   ]
  },
  {
   "cell_type": "code",
   "execution_count": 42,
   "metadata": {},
   "outputs": [
    {
     "name": "stdout",
     "output_type": "stream",
     "text": [
      "dict_keys(['val_loss', 'val_acc', 'loss', 'acc'])\n"
     ]
    },
    {
     "data": {
      "image/png": "[encoded data removed]",
      "text/plain": [
       "<matplotlib.figure.Figure at 0x1c2b7d0668>"
      ]
     },
     "metadata": {},
     "output_type": "display_data"
    }
   ],
   "source": [
    "# list all data in history\n",
    "print(VGG_16_history.history.keys())\n",
    "# summarize history for accuracy\n",
    "plt.plot(VGG_16_history.history['acc'])\n",
    "plt.plot(VGG_16_history.history['val_acc'])\n",
    "plt.title('model accuracy')\n",
    "plt.ylabel('accuracy')\n",
    "plt.xlabel('epoch')\n",
    "plt.legend(['train', 'test'], loc='upper left')\n",
    "plt.show()"
   ]
  },
  {
   "cell_type": "code",
   "execution_count": 43,
   "metadata": {},
   "outputs": [
    {
     "data": {
      "image/png": "[encoded data removed]",
      "text/plain": [
       "<matplotlib.figure.Figure at 0x1c2b7d04e0>"
      ]
     },
     "metadata": {},
     "output_type": "display_data"
    }
   ],
   "source": [
    "# summarize history for loss\n",
    "plt.plot(VGG_16_history.history['loss'])\n",
    "plt.plot(VGG_16_history.history['val_loss'])\n",
    "plt.title('model loss')\n",
    "plt.ylabel('loss')\n",
    "plt.xlabel('epoch')\n",
    "plt.legend(['train', 'test'], loc='upper left')\n",
    "plt.show()"
   ]
  },
  {
   "cell_type": "markdown",
   "metadata": {},
   "source": [
    "### Predict Dog Breed with the Model"
   ]
  },
  {
   "cell_type": "code",
   "execution_count": 44,
   "metadata": {},
   "outputs": [],
   "source": [
    "from extract_bottleneck_features import *\n",
    "\n",
    "def VGG16_predict_breed(img_path):\n",
    "    # extract bottleneck features\n",
    "    bottleneck_feature = extract_VGG16(path_to_tensor(img_path))\n",
    "    # obtain predicted vector\n",
    "    predicted_vector = VGG16_model.predict(bottleneck_feature)\n",
    "    # return dog breed that is predicted by the model\n",
    "    return dog_names[np.argmax(predicted_vector)]"
   ]
  },
  {
   "cell_type": "markdown",
   "metadata": {},
   "source": [
    "---\n",
    "<a id='step5'></a>\n",
    "## Step 5: Create a CNN to Classify Dog Breeds (using Transfer Learning)\n",
    "\n",
    "You will now use transfer learning to create a CNN that can identify dog breed from images.  Your CNN must attain at least 60% accuracy on the test set.\n",
    "\n",
    "In Step 4, we used transfer learning to create a CNN using VGG-16 bottleneck features.  In this section, you must use the bottleneck features from a different pre-trained model.  To make things easier for you, we have pre-computed the features for all of the networks that are currently available in Keras:\n",
    "- [VGG-19](https://s3-us-west-1.amazonaws.com/udacity-aind/dog-project/DogVGG19Data.npz) bottleneck features\n",
    "- [ResNet-50](https://s3-us-west-1.amazonaws.com/udacity-aind/dog-project/DogResnet50Data.npz) bottleneck features\n",
    "- [Inception](https://s3-us-west-1.amazonaws.com/udacity-aind/dog-project/DogInceptionV3Data.npz) bottleneck features\n",
    "- [Xception](https://s3-us-west-1.amazonaws.com/udacity-aind/dog-project/DogXceptionData.npz) bottleneck features\n",
    "\n",
    "The files are encoded as such:\n",
    "\n",
    "    Dog{network}Data.npz\n",
    "    \n",
    "where `{network}`, in the above filename, can be one of `VGG19`, `Resnet50`, `InceptionV3`, or `Xception`.  Pick one of the above architectures, download the corresponding bottleneck features, and store the downloaded file in the `bottleneck_features/` folder in the repository.\n",
    "\n",
    "### (IMPLEMENTATION) Obtain Bottleneck Features\n",
    "\n",
    "In the code block below, extract the bottleneck features corresponding to the train, test, and validation sets by running the following:\n",
    "\n",
    "    bottleneck_features = np.load('bottleneck_features/Dog{network}Data.npz')\n",
    "    train_{network} = bottleneck_features['train']\n",
    "    valid_{network} = bottleneck_features['valid']\n",
    "    test_{network} = bottleneck_features['test']"
   ]
  },
  {
   "cell_type": "code",
   "execution_count": 45,
   "metadata": {},
   "outputs": [],
   "source": [
    "### TODO: Obtain bottleneck features from another pre-trained CNN.\n",
    "bottleneck_features = np.load('bottleneck_features/DogResnet50Data.npz')\n",
    "train_ResNet50 = bottleneck_features['train']\n",
    "valid_ResNet50 = bottleneck_features['valid']\n",
    "test_ResNet50 = bottleneck_features['test']"
   ]
  },
  {
   "cell_type": "markdown",
   "metadata": {},
   "source": [
    "### (IMPLEMENTATION) Model Architecture\n",
    "\n",
    "Create a CNN to classify dog breed.  At the end of your code cell block, summarize the layers of your model by executing the line:\n",
    "    \n",
    "        <your model's name>.summary()\n",
    "   \n",
    "__Question 5:__ Outline the steps you took to get to your final CNN architecture and your reasoning at each step.  Describe why you think the architecture is suitable for the current problem.\n",
    "\n",
    "__Answer:__ \n",
    "\n"
   ]
  },
  {
   "cell_type": "code",
   "execution_count": 46,
   "metadata": {},
   "outputs": [
    {
     "name": "stdout",
     "output_type": "stream",
     "text": [
      "_________________________________________________________________\n",
      "Layer (type)                 Output Shape              Param #   \n",
      "=================================================================\n",
      "global_average_pooling2d_2 ( (None, 2048)              0         \n",
      "_________________________________________________________________\n",
      "dense_4 (Dense)              (None, 133)               272517    \n",
      "=================================================================\n",
      "Total params: 272,517\n",
      "Trainable params: 272,517\n",
      "Non-trainable params: 0\n",
      "_________________________________________________________________\n"
     ]
    }
   ],
   "source": [
    "### TODO: Define your architecture.\n",
    "ResNet50_model = Sequential()\n",
    "ResNet50_model.add(GlobalAveragePooling2D(input_shape=train_ResNet50.shape[1:]))\n",
    "ResNet50_model.add(Dense(133, activation='softmax'))\n",
    "\n",
    "ResNet50_model.summary()"
   ]
  },
  {
   "cell_type": "code",
   "execution_count": 62,
   "metadata": {},
   "outputs": [
    {
     "data": {
      "image/svg+xml": [
       "<svg height=\"191pt\" viewBox=\"0.00 0.00 339.84 191.00\" width=\"340pt\" xmlns=\"http://www.w3.org/2000/svg\" xmlns:xlink=\"http://www.w3.org/1999/xlink\">\n",
       "<g class=\"graph\" id=\"graph0\" transform=\"scale(1 1) rotate(0) translate(4 187)\">\n",
       "<title>G</title>\n",
       "<polygon fill=\"#ffffff\" points=\"-4,4 -4,-187 335.8408,-187 335.8408,4 -4,4\" stroke=\"transparent\"/>\n",
       "<!-- 121039284768 -->\n",
       "<g class=\"node\" id=\"node1\">\n",
       "<title>121039284768</title>\n",
       "<polygon fill=\"none\" points=\"23.5942,-146.5 23.5942,-182.5 308.2466,-182.5 308.2466,-146.5 23.5942,-146.5\" stroke=\"#000000\"/>\n",
       "<text fill=\"#000000\" font-family=\"Times,serif\" font-size=\"14.00\" text-anchor=\"middle\" x=\"165.9204\" y=\"-160.3\">global_average_pooling2d_2_input: InputLayer</text>\n",
       "</g>\n",
       "<!-- 121039286056 -->\n",
       "<g class=\"node\" id=\"node2\">\n",
       "<title>121039286056</title>\n",
       "<polygon fill=\"none\" points=\"0,-73.5 0,-109.5 331.8408,-109.5 331.8408,-73.5 0,-73.5\" stroke=\"#000000\"/>\n",
       "<text fill=\"#000000\" font-family=\"Times,serif\" font-size=\"14.00\" text-anchor=\"middle\" x=\"165.9204\" y=\"-87.3\">global_average_pooling2d_2: GlobalAveragePooling2D</text>\n",
       "</g>\n",
       "<!-- 121039284768&#45;&gt;121039286056 -->\n",
       "<g class=\"edge\" id=\"edge1\">\n",
       "<title>121039284768-&gt;121039286056</title>\n",
       "<path d=\"M165.9204,-146.4551C165.9204,-138.3828 165.9204,-128.6764 165.9204,-119.6817\" fill=\"none\" stroke=\"#000000\"/>\n",
       "<polygon fill=\"#000000\" points=\"169.4205,-119.5903 165.9204,-109.5904 162.4205,-119.5904 169.4205,-119.5903\" stroke=\"#000000\"/>\n",
       "</g>\n",
       "<!-- 121152007472 -->\n",
       "<g class=\"node\" id=\"node3\">\n",
       "<title>121152007472</title>\n",
       "<polygon fill=\"none\" points=\"113.7944,-.5 113.7944,-36.5 218.0464,-36.5 218.0464,-.5 113.7944,-.5\" stroke=\"#000000\"/>\n",
       "<text fill=\"#000000\" font-family=\"Times,serif\" font-size=\"14.00\" text-anchor=\"middle\" x=\"165.9204\" y=\"-14.3\">dense_4: Dense</text>\n",
       "</g>\n",
       "<!-- 121039286056&#45;&gt;121152007472 -->\n",
       "<g class=\"edge\" id=\"edge2\">\n",
       "<title>121039286056-&gt;121152007472</title>\n",
       "<path d=\"M165.9204,-73.4551C165.9204,-65.3828 165.9204,-55.6764 165.9204,-46.6817\" fill=\"none\" stroke=\"#000000\"/>\n",
       "<polygon fill=\"#000000\" points=\"169.4205,-46.5903 165.9204,-36.5904 162.4205,-46.5904 169.4205,-46.5903\" stroke=\"#000000\"/>\n",
       "</g>\n",
       "</g>\n",
       "</svg>"
      ],
      "text/plain": [
       "<IPython.core.display.SVG object>"
      ]
     },
     "execution_count": 62,
     "metadata": {},
     "output_type": "execute_result"
    }
   ],
   "source": [
    "from IPython.display import SVG\n",
    "from keras.utils.vis_utils import model_to_dot\n",
    "\n",
    "SVG(model_to_dot(ResNet50_model).create(prog='dot', format='svg'))"
   ]
  },
  {
   "cell_type": "markdown",
   "metadata": {},
   "source": [
    "### (IMPLEMENTATION) Compile the Model"
   ]
  },
  {
   "cell_type": "code",
   "execution_count": 47,
   "metadata": {},
   "outputs": [],
   "source": [
    "### TODO: Compile the model.\n",
    "ResNet50_model.compile(loss='categorical_crossentropy', optimizer='rmsprop', metrics=['accuracy'])"
   ]
  },
  {
   "cell_type": "markdown",
   "metadata": {},
   "source": [
    "### (IMPLEMENTATION) Train the Model\n",
    "\n",
    "Train your model in the code cell below.  Use model checkpointing to save the model that attains the best validation loss.  \n",
    "\n",
    "You are welcome to [augment the training data](https://blog.keras.io/building-powerful-image-classification-models-using-very-little-data.html), but this is not a requirement. "
   ]
  },
  {
   "cell_type": "code",
   "execution_count": 51,
   "metadata": {
    "scrolled": true
   },
   "outputs": [
    {
     "name": "stdout",
     "output_type": "stream",
     "text": [
      "Train on 6680 samples, validate on 835 samples\n",
      "Epoch 1/50\n",
      "6560/6680 [============================>.] - ETA: 0s - loss: 0.0903 - acc: 0.9729Epoch 00000: val_loss improved from inf to 0.68851, saving model to saved_models/weights.best.ResNet50.hdf5\n",
      "6680/6680 [==============================] - 1s - loss: 0.0914 - acc: 0.9725 - val_loss: 0.6885 - val_acc: 0.8120\n",
      "Epoch 2/50\n",
      "6500/6680 [============================>.] - ETA: 0s - loss: 0.0684 - acc: 0.9785Epoch 00001: val_loss did not improve\n",
      "6680/6680 [==============================] - 1s - loss: 0.0689 - acc: 0.9784 - val_loss: 0.7204 - val_acc: 0.8060\n",
      "Epoch 3/50\n",
      "6660/6680 [============================>.] - ETA: 0s - loss: 0.0465 - acc: 0.9859Epoch 00002: val_loss did not improve\n",
      "6680/6680 [==============================] - 2s - loss: 0.0464 - acc: 0.9859 - val_loss: 0.7484 - val_acc: 0.8024\n",
      "Epoch 4/50\n",
      "6580/6680 [============================>.] - ETA: 0s - loss: 0.0372 - acc: 0.9894Epoch 00003: val_loss improved from 0.68851 to 0.68085, saving model to saved_models/weights.best.ResNet50.hdf5\n",
      "6680/6680 [==============================] - 1s - loss: 0.0374 - acc: 0.9894 - val_loss: 0.6808 - val_acc: 0.8192\n",
      "Epoch 5/50\n",
      "6500/6680 [============================>.] - ETA: 0s - loss: 0.0275 - acc: 0.9922Epoch 00004: val_loss did not improve\n",
      "6680/6680 [==============================] - 2s - loss: 0.0276 - acc: 0.9921 - val_loss: 0.7542 - val_acc: 0.8180\n",
      "Epoch 6/50\n",
      "6580/6680 [============================>.] - ETA: 0s - loss: 0.0223 - acc: 0.9945Epoch 00005: val_loss did not improve\n",
      "6680/6680 [==============================] - 2s - loss: 0.0230 - acc: 0.9945 - val_loss: 0.8002 - val_acc: 0.8144\n",
      "Epoch 7/50\n",
      "6560/6680 [============================>.] - ETA: 0s - loss: 0.0163 - acc: 0.9957Epoch 00006: val_loss did not improve\n",
      "6680/6680 [==============================] - 1s - loss: 0.0167 - acc: 0.9957 - val_loss: 0.7964 - val_acc: 0.8156\n",
      "Epoch 8/50\n",
      "6520/6680 [============================>.] - ETA: 0s - loss: 0.0138 - acc: 0.9965Epoch 00007: val_loss did not improve\n",
      "6680/6680 [==============================] - 1s - loss: 0.0147 - acc: 0.9961 - val_loss: 0.8073 - val_acc: 0.8228\n",
      "Epoch 9/50\n",
      "6560/6680 [============================>.] - ETA: 0s - loss: 0.0109 - acc: 0.9968Epoch 00008: val_loss did not improve\n",
      "6680/6680 [==============================] - 2s - loss: 0.0109 - acc: 0.9969 - val_loss: 0.8461 - val_acc: 0.8132\n",
      "Epoch 10/50\n",
      "6460/6680 [============================>.] - ETA: 0s - loss: 0.0107 - acc: 0.9972Epoch 00009: val_loss did not improve\n",
      "6680/6680 [==============================] - 1s - loss: 0.0105 - acc: 0.9973 - val_loss: 0.8504 - val_acc: 0.8168\n",
      "Epoch 11/50\n",
      "6500/6680 [============================>.] - ETA: 0s - loss: 0.0095 - acc: 0.9980Epoch 00010: val_loss did not improve\n",
      "6680/6680 [==============================] - 2s - loss: 0.0096 - acc: 0.9979 - val_loss: 0.8945 - val_acc: 0.8132\n",
      "Epoch 12/50\n",
      "6440/6680 [===========================>..] - ETA: 0s - loss: 0.0071 - acc: 0.9977Epoch 00011: val_loss did not improve\n",
      "6680/6680 [==============================] - 1s - loss: 0.0081 - acc: 0.9973 - val_loss: 0.9103 - val_acc: 0.8228\n",
      "Epoch 13/50\n",
      "6540/6680 [============================>.] - ETA: 0s - loss: 0.0062 - acc: 0.9983Epoch 00012: val_loss did not improve\n",
      "6680/6680 [==============================] - 1s - loss: 0.0061 - acc: 0.9984 - val_loss: 0.9045 - val_acc: 0.8132\n",
      "Epoch 14/50\n",
      "6480/6680 [============================>.] - ETA: 0s - loss: 0.0048 - acc: 0.9981Epoch 00013: val_loss did not improve\n",
      "6680/6680 [==============================] - 1s - loss: 0.0047 - acc: 0.9982 - val_loss: 0.9360 - val_acc: 0.8275\n",
      "Epoch 15/50\n",
      "6520/6680 [============================>.] - ETA: 0s - loss: 0.0053 - acc: 0.9982Epoch 00014: val_loss did not improve\n",
      "6680/6680 [==============================] - 2s - loss: 0.0053 - acc: 0.9982 - val_loss: 0.9464 - val_acc: 0.8216\n",
      "Epoch 16/50\n",
      "6460/6680 [============================>.] - ETA: 0s - loss: 0.0046 - acc: 0.9991Epoch 00015: val_loss did not improve\n",
      "6680/6680 [==============================] - 1s - loss: 0.0046 - acc: 0.9991 - val_loss: 0.9555 - val_acc: 0.8275\n",
      "Epoch 17/50\n",
      "6560/6680 [============================>.] - ETA: 0s - loss: 0.0042 - acc: 0.9989Epoch 00016: val_loss did not improve\n",
      "6680/6680 [==============================] - 1s - loss: 0.0041 - acc: 0.9990 - val_loss: 0.9874 - val_acc: 0.8144\n",
      "Epoch 18/50\n",
      "6480/6680 [============================>.] - ETA: 0s - loss: 0.0040 - acc: 0.9988Epoch 00017: val_loss did not improve\n",
      "6680/6680 [==============================] - 1s - loss: 0.0039 - acc: 0.9988 - val_loss: 0.9939 - val_acc: 0.8311\n",
      "Epoch 19/50\n",
      "6440/6680 [===========================>..] - ETA: 0s - loss: 0.0037 - acc: 0.9995Epoch 00018: val_loss did not improve\n",
      "6680/6680 [==============================] - 1s - loss: 0.0042 - acc: 0.9993 - val_loss: 1.0519 - val_acc: 0.8240\n",
      "Epoch 20/50\n",
      "6560/6680 [============================>.] - ETA: 0s - loss: 0.0045 - acc: 0.9985Epoch 00019: val_loss did not improve\n",
      "6680/6680 [==============================] - 1s - loss: 0.0044 - acc: 0.9985 - val_loss: 1.0246 - val_acc: 0.8311\n",
      "Epoch 21/50\n",
      "6600/6680 [============================>.] - ETA: 0s - loss: 0.0043 - acc: 0.9988Epoch 00020: val_loss did not improve\n",
      "6680/6680 [==============================] - 1s - loss: 0.0042 - acc: 0.9988 - val_loss: 1.0396 - val_acc: 0.8156\n",
      "Epoch 22/50\n",
      "6500/6680 [============================>.] - ETA: 0s - loss: 0.0056 - acc: 0.9985Epoch 00021: val_loss did not improve\n",
      "6680/6680 [==============================] - 1s - loss: 0.0055 - acc: 0.9985 - val_loss: 1.0506 - val_acc: 0.8240\n",
      "Epoch 23/50\n",
      "6500/6680 [============================>.] - ETA: 0s - loss: 0.0046 - acc: 0.9986Epoch 00022: val_loss did not improve\n",
      "6680/6680 [==============================] - 1s - loss: 0.0045 - acc: 0.9987 - val_loss: 1.0672 - val_acc: 0.8275\n",
      "Epoch 24/50\n",
      "6640/6680 [============================>.] - ETA: 0s - loss: 0.0051 - acc: 0.9985Epoch 00023: val_loss did not improve\n",
      "6680/6680 [==============================] - 1s - loss: 0.0051 - acc: 0.9985 - val_loss: 1.0734 - val_acc: 0.8192\n",
      "Epoch 25/50\n",
      "6500/6680 [============================>.] - ETA: 0s - loss: 0.0054 - acc: 0.9983Epoch 00024: val_loss did not improve\n",
      "6680/6680 [==============================] - 2s - loss: 0.0053 - acc: 0.9984 - val_loss: 1.0921 - val_acc: 0.8156\n",
      "Epoch 26/50\n",
      "6500/6680 [============================>.] - ETA: 0s - loss: 0.0044 - acc: 0.9985Epoch 00025: val_loss did not improve\n",
      "6680/6680 [==============================] - 1s - loss: 0.0043 - acc: 0.9985 - val_loss: 1.1111 - val_acc: 0.8204\n",
      "Epoch 27/50\n",
      "6600/6680 [============================>.] - ETA: 0s - loss: 0.0057 - acc: 0.9989Epoch 00026: val_loss did not improve\n",
      "6680/6680 [==============================] - 2s - loss: 0.0056 - acc: 0.9990 - val_loss: 1.0921 - val_acc: 0.8240\n",
      "Epoch 28/50\n",
      "6460/6680 [============================>.] - ETA: 0s - loss: 0.0041 - acc: 0.9983Epoch 00027: val_loss did not improve\n",
      "6680/6680 [==============================] - 2s - loss: 0.0039 - acc: 0.9984 - val_loss: 1.1018 - val_acc: 0.8192\n",
      "Epoch 29/50\n",
      "6600/6680 [============================>.] - ETA: 0s - loss: 0.0055 - acc: 0.9989Epoch 00028: val_loss did not improve\n",
      "6680/6680 [==============================] - 1s - loss: 0.0055 - acc: 0.9990 - val_loss: 1.1387 - val_acc: 0.8240\n",
      "Epoch 30/50\n",
      "6580/6680 [============================>.] - ETA: 0s - loss: 0.0034 - acc: 0.9988Epoch 00029: val_loss did not improve\n",
      "6680/6680 [==============================] - 1s - loss: 0.0038 - acc: 0.9987 - val_loss: 1.1729 - val_acc: 0.8240\n",
      "Epoch 31/50\n",
      "6500/6680 [============================>.] - ETA: 0s - loss: 0.0056 - acc: 0.9986Epoch 00030: val_loss did not improve\n",
      "6680/6680 [==============================] - 1s - loss: 0.0055 - acc: 0.9987 - val_loss: 1.1467 - val_acc: 0.8204\n",
      "Epoch 32/50\n",
      "6540/6680 [============================>.] - ETA: 0s - loss: 0.0051 - acc: 0.9985Epoch 00031: val_loss did not improve\n",
      "6680/6680 [==============================] - 1s - loss: 0.0057 - acc: 0.9984 - val_loss: 1.1726 - val_acc: 0.8168\n",
      "Epoch 33/50\n",
      "6520/6680 [============================>.] - ETA: 0s - loss: 0.0052 - acc: 0.9989Epoch 00032: val_loss did not improve\n"
     ]
    },
    {
     "name": "stdout",
     "output_type": "stream",
     "text": [
      "6680/6680 [==============================] - 1s - loss: 0.0056 - acc: 0.9988 - val_loss: 1.1536 - val_acc: 0.8299\n",
      "Epoch 34/50\n",
      "6440/6680 [===========================>..] - ETA: 0s - loss: 0.0048 - acc: 0.9988Epoch 00033: val_loss did not improve\n",
      "6680/6680 [==============================] - 1s - loss: 0.0057 - acc: 0.9987 - val_loss: 1.1852 - val_acc: 0.8263\n",
      "Epoch 35/50\n",
      "6660/6680 [============================>.] - ETA: 0s - loss: 0.0044 - acc: 0.9991Epoch 00034: val_loss did not improve\n",
      "6680/6680 [==============================] - 1s - loss: 0.0044 - acc: 0.9991 - val_loss: 1.2423 - val_acc: 0.8156\n",
      "Epoch 36/50\n",
      "6460/6680 [============================>.] - ETA: 0s - loss: 0.0038 - acc: 0.9988Epoch 00035: val_loss did not improve\n",
      "6680/6680 [==============================] - 1s - loss: 0.0036 - acc: 0.9988 - val_loss: 1.2067 - val_acc: 0.8323\n",
      "Epoch 37/50\n",
      "6560/6680 [============================>.] - ETA: 0s - loss: 0.0043 - acc: 0.9988Epoch 00036: val_loss did not improve\n",
      "6680/6680 [==============================] - 1s - loss: 0.0043 - acc: 0.9988 - val_loss: 1.2198 - val_acc: 0.8263\n",
      "Epoch 38/50\n",
      "6620/6680 [============================>.] - ETA: 0s - loss: 0.0036 - acc: 0.9988Epoch 00037: val_loss did not improve\n",
      "6680/6680 [==============================] - 1s - loss: 0.0035 - acc: 0.9988 - val_loss: 1.2174 - val_acc: 0.8240\n",
      "Epoch 39/50\n",
      "6660/6680 [============================>.] - ETA: 0s - loss: 0.0052 - acc: 0.9983Epoch 00038: val_loss did not improve\n",
      "6680/6680 [==============================] - 1s - loss: 0.0052 - acc: 0.9984 - val_loss: 1.2126 - val_acc: 0.8263\n",
      "Epoch 40/50\n",
      "6520/6680 [============================>.] - ETA: 0s - loss: 0.0050 - acc: 0.9988Epoch 00039: val_loss did not improve\n",
      "6680/6680 [==============================] - 1s - loss: 0.0049 - acc: 0.9988 - val_loss: 1.1944 - val_acc: 0.8323\n",
      "Epoch 41/50\n",
      "6620/6680 [============================>.] - ETA: 0s - loss: 0.0047 - acc: 0.9985Epoch 00040: val_loss did not improve\n",
      "6680/6680 [==============================] - 2s - loss: 0.0047 - acc: 0.9985 - val_loss: 1.2383 - val_acc: 0.8251\n",
      "Epoch 42/50\n",
      "6600/6680 [============================>.] - ETA: 0s - loss: 0.0048 - acc: 0.9988Epoch 00041: val_loss did not improve\n",
      "6680/6680 [==============================] - 2s - loss: 0.0047 - acc: 0.9988 - val_loss: 1.2152 - val_acc: 0.8275\n",
      "Epoch 43/50\n",
      "6540/6680 [============================>.] - ETA: 0s - loss: 0.0052 - acc: 0.9988Epoch 00042: val_loss did not improve\n",
      "6680/6680 [==============================] - 2s - loss: 0.0051 - acc: 0.9988 - val_loss: 1.2275 - val_acc: 0.8216\n",
      "Epoch 44/50\n",
      "6620/6680 [============================>.] - ETA: 0s - loss: 0.0055 - acc: 0.9986Epoch 00043: val_loss did not improve\n",
      "6680/6680 [==============================] - 2s - loss: 0.0056 - acc: 0.9985 - val_loss: 1.2286 - val_acc: 0.8204\n",
      "Epoch 45/50\n",
      "6480/6680 [============================>.] - ETA: 0s - loss: 0.0050 - acc: 0.9986Epoch 00044: val_loss did not improve\n",
      "6680/6680 [==============================] - 2s - loss: 0.0049 - acc: 0.9987 - val_loss: 1.2486 - val_acc: 0.8228\n",
      "Epoch 46/50\n",
      "6520/6680 [============================>.] - ETA: 0s - loss: 0.0054 - acc: 0.9988Epoch 00045: val_loss did not improve\n",
      "6680/6680 [==============================] - 1s - loss: 0.0053 - acc: 0.9988 - val_loss: 1.2272 - val_acc: 0.8251\n",
      "Epoch 47/50\n",
      "6500/6680 [============================>.] - ETA: 0s - loss: 0.0043 - acc: 0.9989Epoch 00046: val_loss did not improve\n",
      "6680/6680 [==============================] - 1s - loss: 0.0050 - acc: 0.9988 - val_loss: 1.2360 - val_acc: 0.8216\n",
      "Epoch 48/50\n",
      "6620/6680 [============================>.] - ETA: 0s - loss: 0.0040 - acc: 0.9988Epoch 00047: val_loss did not improve\n",
      "6680/6680 [==============================] - 2s - loss: 0.0040 - acc: 0.9988 - val_loss: 1.2617 - val_acc: 0.8204\n",
      "Epoch 49/50\n",
      "6560/6680 [============================>.] - ETA: 0s - loss: 0.0062 - acc: 0.9991Epoch 00048: val_loss did not improve\n",
      "6680/6680 [==============================] - 2s - loss: 0.0061 - acc: 0.9991 - val_loss: 1.2526 - val_acc: 0.8299\n",
      "Epoch 50/50\n",
      "6660/6680 [============================>.] - ETA: 0s - loss: 0.0050 - acc: 0.9989Epoch 00049: val_loss did not improve\n",
      "6680/6680 [==============================] - 2s - loss: 0.0050 - acc: 0.9990 - val_loss: 1.2637 - val_acc: 0.8251\n"
     ]
    }
   ],
   "source": [
    "### TODO: Train the model.\n",
    "checkpointer = ModelCheckpoint(filepath='saved_models/weights.best.ResNet50.hdf5', \n",
    "                               verbose=1, save_best_only=True)\n",
    "\n",
    "ResNet50_history = ResNet50_model.fit(train_ResNet50, train_targets, \n",
    "                   validation_data=(valid_ResNet50, valid_targets),\n",
    "                   epochs=50, batch_size=20, callbacks=[checkpointer], verbose=1)"
   ]
  },
  {
   "cell_type": "markdown",
   "metadata": {},
   "source": [
    "### (IMPLEMENTATION) Load the Model with the Best Validation Loss"
   ]
  },
  {
   "cell_type": "code",
   "execution_count": 52,
   "metadata": {},
   "outputs": [],
   "source": [
    "### TODO: Load the model weights with the best validation loss.\n",
    "ResNet50_model.load_weights('saved_models/weights.best.ResNet50.hdf5')"
   ]
  },
  {
   "cell_type": "markdown",
   "metadata": {},
   "source": [
    "### (IMPLEMENTATION) Test the Model\n",
    "\n",
    "Try out your model on the test dataset of dog images. Ensure that your test accuracy is greater than 60%."
   ]
  },
  {
   "cell_type": "code",
   "execution_count": 53,
   "metadata": {},
   "outputs": [
    {
     "name": "stdout",
     "output_type": "stream",
     "text": [
      "Test accuracy: 81.6986%\n"
     ]
    }
   ],
   "source": [
    "### TODO: Calculate classification accuracy on the test dataset.\n",
    "# get index of predicted dog breed for each image in test set\n",
    "ResNet50_predictions = [np.argmax(ResNet50_model.predict(np.expand_dims(feature, axis=0))) for feature in test_ResNet50]\n",
    "\n",
    "# report test accuracy\n",
    "test_accuracy = 100*np.sum(np.array(ResNet50_predictions)==np.argmax(test_targets, axis=1))/len(ResNet50_predictions)\n",
    "print('Test accuracy: %.4f%%' % test_accuracy)"
   ]
  },
  {
   "cell_type": "code",
   "execution_count": 54,
   "metadata": {},
   "outputs": [
    {
     "name": "stdout",
     "output_type": "stream",
     "text": [
      "dict_keys(['val_loss', 'val_acc', 'loss', 'acc'])\n"
     ]
    },
    {
     "data": {
      "image/png": "[encoded data removed]",
      "text/plain": [
       "<matplotlib.figure.Figure at 0x1c2f6687f0>"
      ]
     },
     "metadata": {},
     "output_type": "display_data"
    },
    {
     "data": {
      "image/png": "[encoded data removed]",
      "text/plain": [
       "<matplotlib.figure.Figure at 0x1c2e81cba8>"
      ]
     },
     "metadata": {},
     "output_type": "display_data"
    }
   ],
   "source": [
    "# Visualize accuracy and loss function\n",
    "\n",
    "# list all data in history\n",
    "print(ResNet50_history.history.keys())\n",
    "# summarize history for accuracy\n",
    "plt.plot(ResNet50_history.history['acc'])\n",
    "plt.plot(ResNet50_history.history['val_acc'])\n",
    "plt.title('model accuracy')\n",
    "plt.ylabel('accuracy')\n",
    "plt.xlabel('epoch')\n",
    "plt.legend(['train', 'test'], loc='upper right')\n",
    "plt.show()\n",
    "# summarize history for loss\n",
    "plt.plot(ResNet50_history.history['loss'])\n",
    "plt.plot(ResNet50_history.history['val_loss'])\n",
    "plt.title('model loss')\n",
    "plt.ylabel('loss')\n",
    "plt.xlabel('epoch')\n",
    "plt.legend(['train', 'test'], loc='upper right')\n",
    "plt.show()"
   ]
  },
  {
   "cell_type": "markdown",
   "metadata": {},
   "source": [
    "### (IMPLEMENTATION) Predict Dog Breed with the Model\n",
    "\n",
    "Write a function that takes an image path as input and returns the dog breed (`Affenpinscher`, `Afghan_hound`, etc) that is predicted by your model.  \n",
    "\n",
    "Similar to the analogous function in Step 5, your function should have three steps:\n",
    "1. Extract the bottleneck features corresponding to the chosen CNN model.\n",
    "2. Supply the bottleneck features as input to the model to return the predicted vector.  Note that the argmax of this prediction vector gives the index of the predicted dog breed.\n",
    "3. Use the `dog_names` array defined in Step 0 of this notebook to return the corresponding breed.\n",
    "\n",
    "The functions to extract the bottleneck features can be found in `extract_bottleneck_features.py`, and they have been imported in an earlier code cell.  To obtain the bottleneck features corresponding to your chosen CNN architecture, you need to use the function\n",
    "\n",
    "    extract_{network}\n",
    "    \n",
    "where `{network}`, in the above filename, should be one of `VGG19`, `Resnet50`, `InceptionV3`, or `Xception`."
   ]
  },
  {
   "cell_type": "code",
   "execution_count": null,
   "metadata": {},
   "outputs": [],
   "source": [
    "### TODO: Write a function that takes a path to an image as input\n",
    "### and returns the dog breed that is predicted by the model."
   ]
  },
  {
   "cell_type": "markdown",
   "metadata": {},
   "source": [
    "---\n",
    "<a id='step6'></a>\n",
    "## Step 6: Write your Algorithm\n",
    "\n",
    "Write an algorithm that accepts a file path to an image and first determines whether the image contains a human, dog, or neither.  Then,\n",
    "- if a __dog__ is detected in the image, return the predicted breed.\n",
    "- if a __human__ is detected in the image, return the resembling dog breed.\n",
    "- if __neither__ is detected in the image, provide output that indicates an error.\n",
    "\n",
    "You are welcome to write your own functions for detecting humans and dogs in images, but feel free to use the `face_detector` and `dog_detector` functions developed above.  You are __required__ to use your CNN from Step 5 to predict dog breed.  \n",
    "\n",
    "Some sample output for our algorithm is provided below, but feel free to design your own user experience!\n",
    "\n",
    "![Sample Human Output](images/sample_human_output.png)\n",
    "\n",
    "\n",
    "### (IMPLEMENTATION) Write your Algorithm"
   ]
  },
  {
   "cell_type": "code",
   "execution_count": null,
   "metadata": {},
   "outputs": [],
   "source": [
    "### TODO: Write your algorithm.\n",
    "### Feel free to use as many code cells as needed."
   ]
  },
  {
   "cell_type": "markdown",
   "metadata": {},
   "source": [
    "---\n",
    "<a id='step7'></a>\n",
    "## Step 7: Test Your Algorithm\n",
    "\n",
    "In this section, you will take your new algorithm for a spin!  What kind of dog does the algorithm think that __you__ look like?  If you have a dog, does it predict your dog's breed accurately?  If you have a cat, does it mistakenly think that your cat is a dog?\n",
    "\n",
    "### (IMPLEMENTATION) Test Your Algorithm on Sample Images!\n",
    "\n",
    "Test your algorithm at least six images on your computer.  Feel free to use any images you like.  Use at least two human and two dog images.  \n",
    "\n",
    "__Question 6:__ Is the output better than you expected :) ?  Or worse :( ?  Provide at least three possible points of improvement for your algorithm.\n",
    "\n",
    "__Answer:__ "
   ]
  },
  {
   "cell_type": "code",
   "execution_count": null,
   "metadata": {},
   "outputs": [],
   "source": [
    "## TODO: Execute your algorithm from Step 6 on\n",
    "## at least 6 images on your computer.\n",
    "## Feel free to use as many code cells as needed."
   ]
  }
 ],
 "metadata": {
  "anaconda-cloud": {},
  "kernelspec": {
   "display_name": "Python 3",
   "language": "python",
   "name": "python3"
  },
  "language_info": {
   "codemirror_mode": {
    "name": "ipython",
    "version": 3
   },
   "file_extension": ".py",
   "mimetype": "text/x-python",
   "name": "python",
   "nbconvert_exporter": "python",
   "pygments_lexer": "ipython3",
   "version": "3.6.3"
  },
  "toc": {
   "nav_menu": {
    "height": "512px",
    "width": "252px"
   },
   "navigate_menu": true,
   "number_sections": true,
   "sideBar": true,
   "threshold": 4,
   "toc_cell": false,
   "toc_section_display": "block",
   "toc_window_display": false
  }
 },
 "nbformat": 4,
 "nbformat_minor": 1
}
